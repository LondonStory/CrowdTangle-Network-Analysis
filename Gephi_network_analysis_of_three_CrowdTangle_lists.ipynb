{
  "nbformat": 4,
  "nbformat_minor": 0,
  "metadata": {
    "colab": {
      "name": "Gephi network analysis of three CrowdTangle lists.ipynb",
      "provenance": [],
      "collapsed_sections": [],
      "toc_visible": true
    },
    "kernelspec": {
      "name": "python3",
      "display_name": "Python 3"
    },
    "language_info": {
      "name": "python"
    }
  },
  "cells": [
    {
      "cell_type": "markdown",
      "source": [
        "# Network visualisations of three CrowdTangle lists/groups in Gephi"
      ],
      "metadata": {
        "id": "mIMqCw3PwKwo"
      }
    },
    {
      "cell_type": "markdown",
      "source": [
        "In this notebook, we use CrowdTangle Facebook data to create and analyse the networks of three lists of actors. The workflow uses [NetworkX python library](https://networkx.org). \n",
        "\n",
        "Networks are usually described by two sets of items, which ultimately \"form\" a network: `Nodes` and `Edges`. In mathematical terms, this is known as a `Graph`. Nodes and edges can have metadata associated with them (picture courtesy: T. McKinney). \n",
        "\n",
        "![network_structure_1.JPG](data:image/jpeg;base64,/9j/4AAQSkZJRgABAQEAYABgAAD/4REGRXhpZgAATU0AKgAAAAgABAE7AAIAAAAUAAAISodpAAQAAAABAAAIXpydAAEAAAAoAAAQ1uocAAcAAAgMAAAAPgAAAAAc6gAAAAgAAAAAAAAAAAAAAAAAAAAAAAAAAAAAAAAAAAAAAAAAAAAAAAAAAAAAAAAAAAAAAAAAAAAAAAAAAAAAAAAAAAAAAAAAAAAAAAAAAAAAAAAAAAAAAAAAAAAAAAAAAAAAAAAAAAAAAAAAAAAAAAAAAAAAAAAAAAAAAAAAAAAAAAAAAAAAAAAAAAAAAAAAAAAAAAAAAAAAAAAAAAAAAAAAAAAAAAAAAAAAAAAAAAAAAAAAAAAAAAAAAAAAAAAAAAAAAAAAAAAAAAAAAAAAAAAAAAAAAAAAAAAAAAAAAAAAAAAAAAAAAAAAAAAAAAAAAAAAAAAAAAAAAAAAAAAAAAAAAAAAAAAAAAAAAAAAAAAAAAAAAAAAAAAAAAAAAAAAAAAAAAAAAAAAAAAAAAAAAAAAAAAAAAAAAAAAAAAAAAAAAAAAAAAAAAAAAAAAAAAAAAAAAAAAAAAAAAAAAAAAAAAAAAAAAAAAAAAAAAAAAAAAAAAAAAAAAAAAAAAAAAAAAAAAAAAAAAAAAAAAAAAAAAAAAAAAAAAAAAAAAAAAAAAAAAAAAAAAAAAAAAAAAAAAAAAAAAAAAAAAAAAAAAAAAAAAAAAAAAAAAAAAAAAAAAAAAAAAAAAAAAAAAAAAAAAAAAAAAAAAAAAAAAAAAAAAAAAAAAAAAAAAAAAAAAAAAAAAAAAAAAAAAAAAAAAAAAAAAAAAAAAAAAAAAAAAAAAAAAAAAAAAAAAAAAAAAAAAAAAAAAAAAAAAAAAAAAAAAAAAAAAAAAAAAAAAAAAAAAAAAAAAAAAAAAAAAAAAAAAAAAAAAAAAAAAAAAAAAAAAAAAAAAAAAAAAAAAAAAAAAAAAAAAAAAAAAAAAAAAAAAAAAAAAAAAAAAAAAAAAAAAAAAAAAAAAAAAAAAAAAAAAAAAAAAAAAAAAAAAAAAAAAAAAAAAAAAAAAAAAAAAAAAAAAAAAAAAAAAAAAAAAAAAAAAAAAAAAAAAAAAAAAAAAAAAAAAAAAAAAAAAAAAAAAAAAAAAAAAAAAAAAAAAAAAAAAAAAAAAAAAAAAAAAAAAAAAAAAAAAAAAAAAAAAAAAAAAAAAAAAAAAAAAAAAAAAAAAAAAAAAAAAAAAAAAAAAAAAAAAAAAAAAAAAAAAAAAAAAAAAAAAAAAAAAAAAAAAAAAAAAAAAAAAAAAAAAAAAAAAAAAAAAAAAAAAAAAAAAAAAAAAAAAAAAAAAAAAAAAAAAAAAAAAAAAAAAAAAAAAAAAAAAAAAAAAAAAAAAAAAAAAAAAAAAAAAAAAAAAAAAAAAAAAAAAAAAAAAAAAAAAAAAAAAAAAAAAAAAAAAAAAAAAAAAAAAAAAAAAAAAAAAAAAAAAAAAAAAAAAAAAAAAAAAAAAAAAAAAAAAAAAAAAAAAAAAAAAAAAAAAAAAAAAAAAAAAAAAAAAAAAAAAAAAAAAAAAAAAAAAAAAAAAAAAAAAAAAAAAAAAAAAAAAAAAAAAAAAAAAAAAAAAAAAAAAAAAAAAAAAAAAAAAAAAAAAAAAAAAAAAAAAAAAAAAAAAAAAAAAAAAAAAAAAAAAAAAAAAAAAAAAAAAAAAAAAAAAAAAAAAAAAAAAAAAAAAAAAAAAAAAAAAAAAAAAAAAAAAAAAAAAAAAAAAAAAAAAAAAAAAAAAAAAAAAAAAAAAAAAAAAAAAAAAAAAAAAAAAAAAAAAAAAAAAAAAAAAAAAAAAAAAAAAAAAAAAAAAAAAAAAAAAAAAAAAAAAAAAAAAAAAAAAAAAAAAAAAAAAAAAAAAAAAAAAAAAAAAAAAAAAAAAAAAAAAAAAAAAAAAAAAAAAAAAAAAAAAAAAAAAAAAAAAAAAAAAAAAAAAAAAAAAAAAAAAAAAAAAAAAAAAAAAAAAAAAAAAAAAAAAAAAAAAAAAAAAAAAAAAAAAAAAAAAAAAAAAAAAAAAAAAAAAAAAAAAAAAAAAAAAAAAAAAAAAAAAAAAAAAAAAAAAAAAAAAAAAAAAAAAAAAAAAAAAAAAAAAAAAAAAAAAAAAAAAAAAAAAAAAAAAAAAAAAAAAAAAAAAAAAAAAAAAAAAAAAAAAAAAAAAAAAAAAAAAAAAAAAAAAAAAAAAAAAAAAAAAAAAAAAAAAAAAAAAAAAAAAAAAAAAAAAAAAAAAAAAAAAAAAAAAAAAAAAAAAAAAAAAAAAAAAAAAAAAAAAAAAAAAAAAAAAAAAAAAAAAAAAAAAAAAAAAAAAAAAAAAAAAAAAAAAAAAAAAAAAAAAAAAAAAAAAAAAAAAAAAAAAAAAAAAAAAAAAAAAAAAAAAAAAAAAAAAAAAAAAAAAAAAAAAAAAAAAAAAAAAAAAAAAAAAAAAAAAAAAAAAAAAAAAAAAAAAAAAAAAAAAAAAAAAAAAAAAAAAAAAAAAAAAAAAAAAAAAAAAAAAAAAAAAAAAAAAAAAAAAAAAAAAAAAAAAAAAAAAAAAAAAAAAAAAAAAAAAAAAAAAAAAAAAAAAAAAAAAAAAAAAAAAAAAAAAAAAAAAAAAAAAAAAAAAAAAAAAAAAAAAAAAAAAAAAAAAAAAAAAAAAAAAAAAAAAAAAAAAAAAAAAAAAAAAAAAAAAAAAAAAAAAAAAAAAAAAAAAAAAAAAAAAAAAAAAAAAAAAAAAAAAAAAAAAAAAAAAAAAAAAAAAAAAAAAAAAAAAAAAAAAAAAAAAAAAAAAAAAAAAAAAAAAAAAAAAAAAAAAAAAAAAAAAAAAAAAAAAAAAAAAAAAAAAAAAAAAAAAAAAAAAFRyZW50b24gSi4gTWNLaW5uZXkAAAWQAwACAAAAFAAAEKyQBAACAAAAFAAAEMCSkQACAAAAAzYzAACSkgACAAAAAzYzAADqHAAHAAAIDAAACKAAAAAAHOoAAAAIAAAAAAAAAAAAAAAAAAAAAAAAAAAAAAAAAAAAAAAAAAAAAAAAAAAAAAAAAAAAAAAAAAAAAAAAAAAAAAAAAAAAAAAAAAAAAAAAAAAAAAAAAAAAAAAAAAAAAAAAAAAAAAAAAAAAAAAAAAAAAAAAAAAAAAAAAAAAAAAAAAAAAAAAAAAAAAAAAAAAAAAAAAAAAAAAAAAAAAAAAAAAAAAAAAAAAAAAAAAAAAAAAAAAAAAAAAAAAAAAAAAAAAAAAAAAAAAAAAAAAAAAAAAAAAAAAAAAAAAAAAAAAAAAAAAAAAAAAAAAAAAAAAAAAAAAAAAAAAAAAAAAAAAAAAAAAAAAAAAAAAAAAAAAAAAAAAAAAAAAAAAAAAAAAAAAAAAAAAAAAAAAAAAAAAAAAAAAAAAAAAAAAAAAAAAAAAAAAAAAAAAAAAAAAAAAAAAAAAAAAAAAAAAAAAAAAAAAAAAAAAAAAAAAAAAAAAAAAAAAAAAAAAAAAAAAAAAAAAAAAAAAAAAAAAAAAAAAAAAAAAAAAAAAAAAAAAAAAAAAAAAAAAAAAAAAAAAAAAAAAAAAAAAAAAAAAAAAAAAAAAAAAAAAAAAAAAAAAAAAAAAAAAAAAAAAAAAAAAAAAAAAAAAAAAAAAAAAAAAAAAAAAAAAAAAAAAAAAAAAAAAAAAAAAAAAAAAAAAAAAAAAAAAAAAAAAAAAAAAAAAAAAAAAAAAAAAAAAAAAAAAAAAAAAAAAAAAAAAAAAAAAAAAAAAAAAAAAAAAAAAAAAAAAAAAAAAAAAAAAAAAAAAAAAAAAAAAAAAAAAAAAAAAAAAAAAAAAAAAAAAAAAAAAAAAAAAAAAAAAAAAAAAAAAAAAAAAAAAAAAAAAAAAAAAAAAAAAAAAAAAAAAAAAAAAAAAAAAAAAAAAAAAAAAAAAAAAAAAAAAAAAAAAAAAAAAAAAAAAAAAAAAAAAAAAAAAAAAAAAAAAAAAAAAAAAAAAAAAAAAAAAAAAAAAAAAAAAAAAAAAAAAAAAAAAAAAAAAAAAAAAAAAAAAAAAAAAAAAAAAAAAAAAAAAAAAAAAAAAAAAAAAAAAAAAAAAAAAAAAAAAAAAAAAAAAAAAAAAAAAAAAAAAAAAAAAAAAAAAAAAAAAAAAAAAAAAAAAAAAAAAAAAAAAAAAAAAAAAAAAAAAAAAAAAAAAAAAAAAAAAAAAAAAAAAAAAAAAAAAAAAAAAAAAAAAAAAAAAAAAAAAAAAAAAAAAAAAAAAAAAAAAAAAAAAAAAAAAAAAAAAAAAAAAAAAAAAAAAAAAAAAAAAAAAAAAAAAAAAAAAAAAAAAAAAAAAAAAAAAAAAAAAAAAAAAAAAAAAAAAAAAAAAAAAAAAAAAAAAAAAAAAAAAAAAAAAAAAAAAAAAAAAAAAAAAAAAAAAAAAAAAAAAAAAAAAAAAAAAAAAAAAAAAAAAAAAAAAAAAAAAAAAAAAAAAAAAAAAAAAAAAAAAAAAAAAAAAAAAAAAAAAAAAAAAAAAAAAAAAAAAAAAAAAAAAAAAAAAAAAAAAAAAAAAAAAAAAAAAAAAAAAAAAAAAAAAAAAAAAAAAAAAAAAAAAAAAAAAAAAAAAAAAAAAAAAAAAAAAAAAAAAAAAAAAAAAAAAAAAAAAAAAAAAAAAAAAAAAAAAAAAAAAAAAAAAAAAAAAAAAAAAAAAAAAAAAAAAAAAAAAAAAAAAAAAAAAAAAAAAAAAAAAAAAAAAAAAAAAAAAAAAAAAAAAAAAAAAAAAAAAAAAAAAAAAAAAAAAAAAAAAAAAAAAAAAAAAAAAAAAAAAAAAAAAAAAAAAAAAAAAAAAAAAAAAAAAAAAAAAAAAAAAAAAAAAAAAAAAAAAAAAAAAAAAAAAAAAAAAAAAAAAAAAAAAAAAAAAAAAAAAAAAAAAAAAAAAAAAAAAAAAAAAAAAAAAAAAAAAAAAAAAAAAAAAAAAAAAAAAAAAAAAAAAAAAAAAAAAAAAAAAAAAAAAAAAAAAAAAAAAAAAAAAAAAAAAAAAAAAAAAAAAAAAAAAAAAAAAAAAAAAAAAAAAAAAAAAAAAAAAAAAAAAAAAAAAAAAAAAAAAAAAAAAAAAAAAAAAAAAAAAAAAAAAAAAAAAAAAAAAAAAAAAAAAAAAAAAAAAAAAAAAAAAAAAAAAAAAAAAAAAAAAAAAAAAAAAAAAAAAAAAAAAAAAAAAAAAAAAAAAAAAAAAAAAAAAAAAAAAAAAAAAAAAAAAAAAAAAAAAAAAAAAAAAAAAAAAAAAAAAAAAAAAAAAAAAAAAAAAAAAAAAAAAAAAAAAAAAAAAAAAAAAAAAAAAAAAAAAAAAAAAAAAAAAAAAAAAAAAAAAAAAAAAAAAAAAAAAAAAAAAAAAAAAAAAAAAAAAAAAAAAAAAAAAAAAAAAAAAAAAAAAAAAAAAAAAAAAAAAAAAAAAAAAAAAAAAAAAAAAAAAAAAAAAAAAAAAAAAAAAAAAAAAAAAAAAAAAAAAAAAAAAAAAAAAAAAAAAAAAAAAAAAAAAAAAAAAAAAAAAAAAAAAAAAAAAAAAAAAAAAAAAAAAAAAAAAAAAAAAAAAAAAAAAAAAAAAAAAAAAAAAAAAAAAAAAAAAAAAAAAAAAAAAAAAAAAAAAAAAAAAAAAAAAAAAAAAAAAAAAAAAAAAAAAAAAAAAAAAAAAAAAAAAAAAAAAAAAAAAAAAAAAAAAAAAAAAAAAAAAAAAAAAAAAAAAAAAAAAAAAAAAAAAAAAAAAAAAAAAAAAAAAAAAAAAAAAyMDIwOjA1OjI2IDExOjE5OjQ5ADIwMjA6MDU6MjYgMTE6MTk6NDkAAABUAHIAZQBuAHQAbwBuACAASgAuACAATQBjAEsAaQBuAG4AZQB5AAAA/+ELJmh0dHA6Ly9ucy5hZG9iZS5jb20veGFwLzEuMC8APD94cGFja2V0IGJlZ2luPSfvu78nIGlkPSdXNU0wTXBDZWhpSHpyZVN6TlRjemtjOWQnPz4NCjx4OnhtcG1ldGEgeG1sbnM6eD0iYWRvYmU6bnM6bWV0YS8iPjxyZGY6UkRGIHhtbG5zOnJkZj0iaHR0cDovL3d3dy53My5vcmcvMTk5OS8wMi8yMi1yZGYtc3ludGF4LW5zIyI+PHJkZjpEZXNjcmlwdGlvbiByZGY6YWJvdXQ9InV1aWQ6ZmFmNWJkZDUtYmEzZC0xMWRhLWFkMzEtZDMzZDc1MTgyZjFiIiB4bWxuczpkYz0iaHR0cDovL3B1cmwub3JnL2RjL2VsZW1lbnRzLzEuMS8iLz48cmRmOkRlc2NyaXB0aW9uIHJkZjphYm91dD0idXVpZDpmYWY1YmRkNS1iYTNkLTExZGEtYWQzMS1kMzNkNzUxODJmMWIiIHhtbG5zOnhtcD0iaHR0cDovL25zLmFkb2JlLmNvbS94YXAvMS4wLyI+PHhtcDpDcmVhdGVEYXRlPjIwMjAtMDUtMjZUMTE6MTk6NDkuNjMxPC94bXA6Q3JlYXRlRGF0ZT48L3JkZjpEZXNjcmlwdGlvbj48cmRmOkRlc2NyaXB0aW9uIHJkZjphYm91dD0idXVpZDpmYWY1YmRkNS1iYTNkLTExZGEtYWQzMS1kMzNkNzUxODJmMWIiIHhtbG5zOmRjPSJodHRwOi8vcHVybC5vcmcvZGMvZWxlbWVudHMvMS4xLyI+PGRjOmNyZWF0b3I+PHJkZjpTZXEgeG1sbnM6cmRmPSJodHRwOi8vd3d3LnczLm9yZy8xOTk5LzAyLzIyLXJkZi1zeW50YXgtbnMjIj48cmRmOmxpPlRyZW50b24gSi4gTWNLaW5uZXk8L3JkZjpsaT48L3JkZjpTZXE+DQoJCQk8L2RjOmNyZWF0b3I+PC9yZGY6RGVzY3JpcHRpb24+PC9yZGY6UkRGPjwveDp4bXBtZXRhPg0KICAgICAgICAgICAgICAgICAgICAgICAgICAgICAgICAgICAgICAgICAgICAgICAgICAgICAgICAgICAgICAgICAgICAgICAgICAgICAgICAgICAgICAgICAgICAgICAgICAgIAogICAgICAgICAgICAgICAgICAgICAgICAgICAgICAgICAgICAgICAgICAgICAgICAgICAgICAgICAgICAgICAgICAgICAgICAgICAgICAgICAgICAgICAgICAgICAgICAgICAgCiAgICAgICAgICAgICAgICAgICAgICAgICAgICAgICAgICAgICAgICAgICAgICAgICAgICAgICAgICAgICAgICAgICAgICAgICAgICAgICAgICAgICAgICAgICAgICAgICAgICAKICAgICAgICAgICAgICAgICAgICAgICAgICAgICAgICAgICAgICAgICAgICAgICAgICAgICAgICAgICAgICAgICAgICAgICAgICAgICAgICAgICAgICAgICAgICAgICAgICAgIAogICAgICAgICAgICAgICAgICAgICAgICAgICAgICAgICAgICAgICAgICAgICAgICAgICAgICAgICAgICAgICAgICAgICAgICAgICAgICAgICAgICAgICAgICAgICAgICAgICAgCiAgICAgICAgICAgICAgICAgICAgICAgICAgICAgICAgICAgICAgICAgICAgICAgICAgICAgICAgICAgICAgICAgICAgICAgICAgICAgICAgICAgICAgICAgICAgICAgICAgICAKICAgICAgICAgICAgICAgICAgICAgICAgICAgICAgICAgICAgICAgICAgICAgICAgICAgICAgICAgICAgICAgICAgICAgICAgICAgICAgICAgICAgICAgICAgICAgICAgICAgIAogICAgICAgICAgICAgICAgICAgICAgICAgICAgICAgICAgICAgICAgICAgICAgICAgICAgICAgICAgICAgICAgICAgICAgICAgICAgICAgICAgICAgICAgICAgICAgICAgICAgCiAgICAgICAgICAgICAgICAgICAgICAgICAgICAgICAgICAgICAgICAgICAgICAgICAgICAgICAgICAgICAgICAgICAgICAgICAgICAgICAgICAgICAgICAgICAgICAgICAgICAKICAgICAgICAgICAgICAgICAgICAgICAgICAgICAgICAgICAgICAgICAgICAgICAgICAgICAgICAgICAgICAgICAgICAgICAgICAgICAgICAgICAgICAgICAgICAgICAgICAgIAogICAgICAgICAgICAgICAgICAgICAgICAgICAgICAgICAgICAgICAgICAgICAgICAgICAgICAgICAgICAgICAgICAgICAgICAgICAgICAgICAgICAgICAgICAgICAgICAgICAgCiAgICAgICAgICAgICAgICAgICAgICAgICAgICAgICAgICAgICAgICAgICAgICAgICAgICAgICAgICAgICAgICAgICAgICAgICAgICAgICAgICAgICAgICAgICAgICAgICAgICAKICAgICAgICAgICAgICAgICAgICAgICAgICAgICAgICAgICAgICAgICAgICAgICAgICAgICAgICAgICAgICAgICAgICAgICAgICAgICAgICAgICAgICAgICAgICAgICAgICAgIAogICAgICAgICAgICAgICAgICAgICAgICAgICAgICAgICAgICAgICAgICAgICAgICAgICAgICAgICAgICAgICAgICAgICAgICAgICAgICAgICAgICAgICAgICAgICAgICAgICAgCiAgICAgICAgICAgICAgICAgICAgICAgICAgICAgICAgICAgICAgICAgICAgICAgICAgICAgICAgICAgICAgICAgICAgICAgICAgICAgICAgICAgICAgICAgICAgICAgICAgICAKICAgICAgICAgICAgICAgICAgICAgICAgICAgICAgICAgICAgICAgICAgICAgICAgICAgICAgICAgICAgICAgICAgICAgICAgICAgICAgICAgICAgICAgICAgICAgICAgICAgIAogICAgICAgICAgICAgICAgICAgICAgICAgICAgICAgICAgICAgICAgICAgICAgICAgICAgICAgICAgICAgICAgICAgICAgICAgICAgICAgICAgICAgICAgICAgICAgICAgICAgCiAgICAgICAgICAgICAgICAgICAgICAgICAgICAgICAgICAgICAgICAgICAgICAgICAgICAgICAgICAgICAgICAgICAgICAgICAgICAgICAgICAgICAgICAgICAgICAgICAgICAKICAgICAgICAgICAgICAgICAgICAgICAgICAgICAgICAgICAgICAgICAgICAgICAgICAgICAgICAgICAgICAgICAgICAgICAgICAgICAgICAgICAgICAgICAgICAgICAgICAgIAogICAgICAgICAgICAgICAgICAgICAgICAgICAgICAgICAgICAgICAgICAgICAgICAgICAgICAgICAgICAgICAgICAgICAgICAgICAgICAgICAgICAgICAgICAgICAgICAgICAgCiAgICAgICAgICAgICAgICAgICAgICAgICAgICA8P3hwYWNrZXQgZW5kPSd3Jz8+/9sAQwAHBQUGBQQHBgUGCAcHCAoRCwoJCQoVDxAMERgVGhkYFRgXGx4nIRsdJR0XGCIuIiUoKSssKxogLzMvKjInKisq/9sAQwEHCAgKCQoUCwsUKhwYHCoqKioqKioqKioqKioqKioqKioqKioqKioqKioqKioqKioqKioqKioqKioqKioqKioq/8AAEQgA5wGvAwEiAAIRAQMRAf/EAB8AAAEFAQEBAQEBAAAAAAAAAAABAgMEBQYHCAkKC//EALUQAAIBAwMCBAMFBQQEAAABfQECAwAEEQUSITFBBhNRYQcicRQygZGhCCNCscEVUtHwJDNicoIJChYXGBkaJSYnKCkqNDU2Nzg5OkNERUZHSElKU1RVVldYWVpjZGVmZ2hpanN0dXZ3eHl6g4SFhoeIiYqSk5SVlpeYmZqio6Slpqeoqaqys7S1tre4ubrCw8TFxsfIycrS09TV1tfY2drh4uPk5ebn6Onq8fLz9PX29/j5+v/EAB8BAAMBAQEBAQEBAQEAAAAAAAABAgMEBQYHCAkKC//EALURAAIBAgQEAwQHBQQEAAECdwABAgMRBAUhMQYSQVEHYXETIjKBCBRCkaGxwQkjM1LwFWJy0QoWJDThJfEXGBkaJicoKSo1Njc4OTpDREVGR0hJSlNUVVZXWFlaY2RlZmdoaWpzdHV2d3h5eoKDhIWGh4iJipKTlJWWl5iZmqKjpKWmp6ipqrKztLW2t7i5usLDxMXGx8jJytLT1NXW19jZ2uLj5OXm5+jp6vLz9PX29/j5+v/aAAwDAQACEQMRAD8A+kaKKKACiiigAooooAKKKKACiiigAooooAKKKKACiiigAooooAKKKKACiimvIkSF5GVFUZLMcAUAOoqkur2cv/HtI1yPW3jaRf8AvpQR+tL9suX/ANVp8w9DK6KP0JP6UAXKKp51J+NlrD772k/TC0eRft9+9iUf9MrfB/VjQBcoqn9inPXUrr6bYh/7JR/ZwP37q6f/ALbFf5YoAuUVT/syD/npdf8AgXL/APFUf2ZB/wA9Lr/wLl/+KoAuUVT/ALMg/wCel1/4Fy//ABVH9mRD7k10v/by5/mTQBcoqn9hkH3NQul/FG/mpo+y3a/6vUHb/rrEp/8AQQtAFyiqe3Uk5821l9vKaP8AXc38qPtF8n+tsVcf9MJwx/8AHgtAFyiqf9pKn/HxbXUJ94S4/NMipLa/tLzItbmKYr94I4JX6jtQBYooooAKKKKACiiigAooooAKKKKACiiigAooooAKKKKACiiigAooooAKKKKACiiigAooooAKKKKACiiigAooqK4uoLVQ1xKsYY4UE8sfQDufpQBLRVFri8uVIsoBCp6TXII/EIOT+O2lGmiT/j9uJrr/AGWban/fK4B/HNAD5NRto5DGHMsq9Y4VLsPqB0/Gm+ffS/6m0WEf3riTkf8AAVzn8xVqOKOGMRwosaL0VRgD8KdQBT+x3Ev/AB830hHdIVEan+bf+PUq6XZKwZrdZHHR5cyMPxbJq3RQAYx0ooooAKKKKACiiigAooooAKKKKACiiigAooooAKhns7a5x9ot4pSOhdAcfnU1FAFP+zlT/j2uLiA/7Mm8fk+QPwoxqMPRre5HoQYm/P5gfyFXKKAKf9pJH/x+QzWv+1IuV+u5cgfiRVmKWOeMSQyLIjdGQ5B/Gn1Vl062kkMqoYpT1liJRj9SOv0OaALVFUR/aFqxztvou3RJR/7K3/jtSwX8E8nlAmObGTFINrfkeo9xkUAWaKKKACiiigAooooAKKKKACiiigAooooAKKKKACiiigAooooAKKKKACiiigAqK5uobSMPcPsBO1eCSx9AByT7Cq7XzXLGPTQspBw07f6tPy+8fYfiRUkFikUnnSs09xjHmydR7AdFHsPxzQBHuvLv/Vj7HD/eYAyN9B0X8c/QVLb2UFsxdF3SsMNK53O34nnHt0qxRQAUUUUAFFFFABRRRQAUUUUAFFFFABRRRQAUUUUAFFFFABRRRQAUUUUAFFFFABRRRQAUUUUAFRz28NzHsuI1kXOQGGcH1HoakooApfZ7u1/49JvPj/55XDHI+j9fzz9RUlvfRzyGEhop1G5oZBhgPX0I9xkVZqG4tYbpQJkyVOVYHDKfUEcj8KAJqKo+Zd2P+vzdQD/loi/vF+qj731HPt3q3FLHPEskLq6MMqynINAD6KKKACiiigAooooAKKKKACiiigAooooAKKKKACiio5547aBpZm2ovXjOewAHck8YoAdLKkMTSSuqIoyzMcACqPly6k26cNFZ44iPDS+7ei/7PU9/SnRW8t1KtxfgKFO6K36hPdvVv0HbPWr1ACKoRQqgKoGAAOAKWiigAooooAKKKKACiiigAooooAKKKKACiiigAooooAKKKKACiiigAooooAKKKKACiiigAooooAKKKKACiiigAooooAKpTWkkMpuNPwshOZIicJL/AIN7/nntdooAgtruO6VtgZHQ4eNxhkPuP69D2qeq11aecyywv5VxGPkkAz+BHdfb8sHmltLr7RvjkTy54sCSPOcZ6EHuD2P9QRQBYooooAKKKKACiiigAooooAKKKKACiiigBGYIpZyFUDJJOABVKBDfzLdzAiFTm3jI/wDHyPU9h2HueEnzf3n2VcG2hINwf77dQn8ifbA7mr9ABRRRQAUUUUAczrPjOLRPGOm6LdWbG2voWke+Eny27b1RAy46Mzhd2eCRxzkaM+teT4vsdD+z7vtdjcXfn7/ueU8KbduOc+dnOeNvQ54w9VsbbU/idHY38SzW1x4euY5Y26MpniBFc3Fdasnj2LQ5Xkl1vS/DupJBcN/y8o0tr5E2emTt2t/tI3bFAHpEOtaXcalJp1vqVnLfRf6y2SdWlT6qDkUahrWlaS0S6rqVnZNMcRC5nWPefbcRmvPDc6FL8P8Awxa6A9sdUW6svskMZHnxzCRDPuH3gQgl8zPON2etbWn3WlWvjjxT/wAJFNZw3cjQ+QbtlXdZfZ0+7u6r5vn5x3PPagDe0zxHbXmk3eo3rRWNva3dxbPJLMAmIpWj3ljgDO3OO2cZNaNlfWmpWiXWnXUN3bv92aCQOjfQjg14xpw2aJ4dbRpbCz0ZNe1TyW1OBnt0bzpPs+5Qy4+XeFyeCV74rsvAsM58XeIrp9U0+8WRYEnj0u0eK2WcBstuZ2DSFSobB4CpmgDvKKOleQePPiDPeXUml6HO0NtGSks6HBlPoD2X+f0rWlSlVlZGVSrGnG7PTbzxHo2nyGO91S0gkHVHmUMPw61JY63pepnGn6hbXLd1ilDEfh1r5pJyfU0+OV4ZFliZkdTlWU4IPqDXd9RVtzi+uu+x9Q0V5z8O/HcmpuNI1mbfdAZgmbrIB/Cff37/AM/Rq4KlOVOXLI76dRVI8yCiiisywooooAKKKKACiiigAooooAKKKKACiiigAooooAKKKKACiiigAooooAKq3ds0jLPbELcxj5SejDurex/TrVqigCG1uVuodwVkdTtkjb7yN6H/ADyMGpqo3g+yTrfpwgG24HqnZv8AgP8AIn2q91oAKKKKACiiigAooooAKKKKACoLy4NravIq7n4VF/vMThR+ZFT1Tl/0jVoov4LdPOYf7Ryq/wDs5/AUATWluLW2WPdvbku+PvseSfxNTUUUAFFFFABRRRQA3YnmCTau8DaGxzj0zR5aGUSlF8wLtD45A9M+nFOooAgSxtI7t7qO1hS4kGHmWMB2HoW6mkubCzvWjN5aQXBiO6Myxhth9RnpViigCKS2glgeGWCN4pM742QFWzycjvSwW8NrAsNrDHDEgwscahVX6AVJRQBh+Mr+TTPB+o3MJIkERVSOoLcZ/WvnivobxrYPqPg3UbeEEuYtygdypzj9K+eK9TA25WeZjb8yEHB9aM5oxS4r0DhJLe4ktbqK4gYpJE4dGHYg5FfTFhci80+3uRwJo1f8xmvmaCGS5uI4IV3PIwRQB1JOK+mNOt/smmW1v/zyiVPyGK83HW909HBX94s0UUV5p6AUUUUAFFYGo+Kms/EMmjWWhanqtzFax3UrWjW6qiSPIqgmWVCTmJugPatLS7641C1aW70q70t1cqIbt4WZhgHcPKd1xzjk54PHTIBdoqlNqsEOvWmksshnu7ea4RgBtCxNGrAnOc5mXHHY9O92gAooooAKKKKACiiigAooooAKKKKACiiigAooooAKKKKAAgEEEZB6iqWnkwNLYsc+Rgxk94znb+WCv/Ac96u1Rv2FtcW95ztVvJlI/uuQAfwbb9BmgC9RRRQAUUUUAFFFFABRRRQAVTsP3kl3P/z0nKr7BAEx+asfxq5VPSudLhf/AJ6Ayn/gRLf1oAuUUUUAFFFFABRRRQAUUUUAFFFFABRRRQAhAZSDyD1rxrx54Bn068k1HSIWltJCWeNBkxn2HpXs1BAIwRkHsa1pVZUpXRnUpxqRsz5b6ZyCCPWlVGlcLGjMx4AUZJr6LvPCWhX8hkutMt3c9W2YJqSw8NaPpjbrLT4Im/vBBmu768rfCcX1J33OB8B/DtGia+8SWaSBxiK2mUMAPUg9/T0rtHsdW0YB9GmbUbVSN1jeS5kVe/lzHnP+zJnPTcoreorz6lSVSXNI7oQUI8qM/Ttbs9SleCNmhu4xmS0uF8uVB6lT1Gf4hlT2JrQqnqOlWOqxKmoWyTeWd0bkYeJv7yMOVPuCDWf5OtaP/wAeznWbMf8ALGZglyg/2XOFk+jbT3LmoLNyis/TtbsNTkeG3m23MYzLazKY5ox6sjYIHoeh7E1oUAcNd2F/ffFzUhp2sTaYU0Oy3mKGOTzMz3WM71OMe3rU3iO1uEh8O6Pq+pTXlpqGqGG9nYLEZUEMsiRHYAArOiA/3vu/xVt6p4T0LW74Xmq6XBdXIjEQlcfNsBJC59AWY/iaI/CegxaRPpaaVb/Ybht8kBXKs3GDz3GBg9sUAcbqGm2Xhv4jR/8ACLxJBcDw1qEy6fAMRq4kt9jrGOAWIIOBzsHpWR4p0fRNP+ENnrdhctDqFz9ic6isx86+eSSPcJGzmTcCxweBjIxivS7Dwvo+lS+dpljFbXPlvGLgDdJhtucs2SfuJ1/uiuMl+G11qJhtb+00W2iWdJri+tA/mz7XDsEhK7IC5X5irNwWHegCreWmoa/4s8SfavDlhrC2V0tvA93qrW7WkfkxuDGojbYSWZvMBBPT+EV3XhCW7n8GaRLqNzHd3LWkZkuIn3rMdo+cNgZz1zgZzTtU8K6HrN0LnVNMguJtnls7D76ddrY+8vJ4bI5NayIsaKkahVUYVQMAD0oAWiiigAooooAKKKKACiiigAooooAKKKKACiiigAqK6gF1aTQNwJUKE+mRipaKAILGc3On287cNJGrMPQkc1PVPS+LIr2WaVR7ASMB+gq5QAUUUUAFFFFABRRRQAVT0n/kD2g/uwqp+oGKuVT0z5baSM9Y55FI9BvJH/jpFAFyiiigAooooAKKKKACiiigAooooAKKKKACiiigAooooAKKKKACiiigCjqejWWrCI3kR82AloJ42KSwkjBKuMEZ6HsRwciqPm61o/8Ax8IdZsx/y1iVUuUH+0nCyfVdp7BWNblFAFPTtWsdVjdtPuUmMZ2yJ0eJv7rofmU+xANXKz9R0Sy1KRJpUaK6jGIrqBjHLGPQMOcf7Jyp7g1R+26vospXVIm1Owx8t7axfvo/+ukS/e/3ox/wAAZoA3qKr2OoWmp2ouNPuYrmEkjfEwYAjqD6Edx1FWKACiiigAooooAKKKKACiiigAooooAKKKKACiiigAooooAKKKCQASTgDvQBT0z/AI9H/wCvif8A9GtVyqmlA/2VbseGkTzW+rfMf1NW6ACiiigAooooAKKKKACqcX7nV54zwtwgmX3ZcK36bKuVT1EGOOO7QEtbNvIHdMYYflzj1AoAuUUisGUMpBBGQR3paACiiigAooooAKKKKACiiigAooooAKKKKACiiigAooooAKKKKACiiigAooooAzL7QbW7ujeQPLY35AH2u1IV2A6BgQVcezggdsVW/tPU9K+XWrQ3cA6XunxM2P8Afh5YfVd47nbW5RQBBZ3trqFqtzY3EVxA/wB2SJwyn8RXK+NfHsHhn/RLSNbnUHXOwn5Yh2Lf4Vq6no1vbNdatp876ZebTJNLCAUm2j/lpGeH4AGeGwMBhXgOpahPqmpT3124aady7kDA+gHp2rrwtFVJXlsjlxNZ042juy/qXizXdUmL3eqXOCfuRuUUfguBUVn4l1rT5VktNUukI5wZSyn6g8GsrnPJpa9bkja1jyueV73PaPA/xDXXpV07VgkN8R+7deFm/Ds3t3rvK+X7a5ltLqK4tmKSxOHRh2IORX0no2orq2i2l8gwJ4lcj0JHIrysVRVNqUdmenhazmrS3RdooorjOwKKKKACiiigAooooAKKKKACqWqsxsvs8X+sumEK+wP3j+Chj+FXapJ/pWqvJ1jtV8tfdzgt+QwPxagC4AFUADAAwAKWiigAoopGYKpZiAAMkntQAtFc3H8QPDUjpt1BxBI4jS8a1mW1dicACcp5ZyeOGrpKACiiigAoqvdX9tZSWyXUwja6m8iEEH532s238lY/hVigChZsLS4bT3OABvt894/7v/ATx9NtX6gu7b7TCArbJUO+OQDOxh3/AKEdwSKS0uftEbCRfLmjO2WPOdp9vUHqDQBYooooAKKKKACiiigAooooAKKKKACiiigAooooAKKKKACiiigAooooAKKKKACiiigClrULXOhX0Mf3pIHUfUqa+aTlcg5z3r6jIyMGvD/iD4OuNH1aW/s4mexnYuSo/wBWT1B9q78HUUZOL6nDi6bklJdDivejFKKCfSvVPMEzX0P4JtntPBmmxSghvJDEHtnn+teQeCfCM/iPVI5JIytjEwaWQjhv9kV72iLHGqIMKowBXl4yom1BHpYOm0nNjqKq6nqdno2l3Go6nOtvaWyGSaVgSEUdTxSHVbEaMdWF1G1gIDcfaEO5DGF3bgR1GOeK887y3RTIZUnhSaJt0cihlYdwRkGn0AFFV1vrZ9SksFlBuo4lmeLByEYsFP4lGH4VYoAKKKKACiimTTRwQtLMwVEGST2oAivrhre3/dANPIdkKnux/oOp9gafa262tskKktt6serE8kn3JyfxqvaRyTzG9uUKMRthjbrGvv8A7R7+nA9c3aACiiigArlviU7p8OdWCSGJZI1imcHG2J3VZDnthC3NdTUV1bQXtpNa3cSTQTo0csbjKupGCCO4IoAwfFAa18Oy2EGgw6hpLWjxXMRuVgSOILjbgjptz0xjFYsOpalrt/4TttE1CfSdM1DRHv5gFSWbCm32KHdW5/ekE4ORnvgjTTwFb/ZF0+fW9YudJUbRps06NEU7IX2eaydtrOQRwcitPTfDVhpbaW1r5udL086db7nz+6Pl9eOT+6Xn60AcR4t8S6nZWPiHUtK1fUpp9MEzQW9jp6tZx+UmSs0kifMcg79r5XoACOdj7ZrOveMv7Pg1eXTNP/sW1vXW2jjMvmySTDhnVsLhRnj+FcYyc3L34f6ff21/YzX+pLpeoPLJPp0c6rCXkJZyCF3jLEsV3bck8c4qingyY+NGuY7/AFK1Fro1raW2oxPHvfEk5dGUoUbgxnlPTGKAMfVLvWb46Xpj36Pf6Z4rWyW/eFcyIbN5A5QYXeElxwNu5c4xxXVaNLqFh4wvNFu9TuNTt/sMV3FJdJGJI2Mjoy5jVQVO1SMjI55xjFm28I6ba21jEhndrO9N+JpJN0k05V1Z5CeuQ59McAYAArRGl2664+rDf9pe2W2PPy7AxYceuWNAFyql1bv5ourTAuEG0qTgSr/dP9D2PsTm3RQBDa3Ud3GWiJBU7XRuGRvQjsamqrdWjO/2i1YR3KjAY/dcf3W9R79R27gutbxbkMrKYp0/1kTdV/xHoRxQBYooooAKKKKACiiigAooooAKKKKACiiigAooooAKKKKACiiigAooooAKKKKACo5oI7iFop0V0YYKsODUlFAHD6l8KtEvJjJbGW0LHJWM5H5GorH4SaNbyhrmae5A/hY4B/Ku9orX21S1uZmXsqd72ILKxttPtUt7OFYokGAqjFT0UVkanLfEz/kmWvf9ejfzFYWvqvhPw/4g0EgJpOoadeS6WcYWGTynaS39h1dB6bx0UV3Gs6Tba7ot1pd9v+z3UZjk8tsNj2NQ+I/D2n+KtBuNI1eNntrgYJjba6EchlbsRQBzelSajr98+nW+rXOlWel2NqD9kSMyTSyR7iWMiMAoXaAAOTuye1V7bX9Z1Oey8Pf2h9nu/t93bXOpQxJveK3AIKKwKq7B4weCBh8AcY6G58JW73Ud1p2oX+l3S26WrzWbpmaNM7Q6ujKSMtg4yMnmmv4L0z+ybSytpLq1ls5muIL2Gb/SFlbdvcswO4tubcGBBz06YAOUu7/UfCPiTxbfXN22rvZaBazWrTIqyEeZcYWTYADhgeQB8vqRk6Gk6jrcGu6Ygudd1OG5cx34v9MWCOEbGIljKou3DhV2ktw3qMnbtPBWmQXGpT3klzqU2rWy2t9JeOG8+Nd+BhQAvDkYUAe2ckusPCMFpfWtzdanqWpfYc/Y472VWW3JUrkbVBZtpK7nLHBPPJoA36KKjnnitoTLO4RB3P8AIep9qAHu6xozyMFVRlmJwAPWqMatqMyTyqVto2DQxsMFyOjsPT0H4nnGBIZb+QS3iGKBWzHbt1b0Z/6L26nnpfoAKKKKACiiigAooooAKKKKACiiigAooooAKKKKACoLm0judrEtHKn3JU4ZP/rex4NT0UAUReS2h2akFC9rlBhD/vD+E/Xj37Ve69KCARgjINURZzWWTpzL5ZOTbSHCj/dP8P0wR7CgC9RVWG/jkkEMoaCc/wDLKXgn6Ho34Zq1QAUUUUAFFFFABRRRQAUUUUAFFFFABRRRQAUUUUAFFFFABRRRQAUUUUAFFFFABRRRQAUUUUAFFFFABRUNxeQWoXz5Apb7qjln9go5P4VXIu74EHdZQH0I81h/Jf1P0NAEk9+qSmC3X7RcDrGp+77sf4R+voDSQ2bGYXF44mnH3cDCR/7o/qefoOKngt4raFYoECIvQD+fufepKACiiigAooooAKKKKACiiigAooooAKKKKACiiigAooooAKKKKACiiigCOaCK4iMc8ayIf4WGarfZrq2/485/NT/nlcEn8n6j8d1XaKAKUepx7gl4jWcpOAsvCsf9luh+nX2FXaintYLpQtxEsgByu4cqfUHsar/YZYf+PO8lT/YnJlX9Tu/8eoAu0VT+1XUH/H1aFl/56W7bx+KnB/AZp8OoWk8nlxzr5v8Azyb5XH/ATz+lAFmiiigAooooAKKKKACiiigAooooAKKKKACiiigAooooAKKKKACiimTTxW8e+eVIkHVnYAfmaAH0VT/tESf8ecE1x/tBdqfXc2AR9M0eVfz/AOtmjtV/uwDe3/fTDH/jv40AST39vbv5bvulxkRRqXfHrtHOPeoVN9eKCf8AQYz24eU/+yr/AOPfhU0FhbwSeYqbpcY82Ql3+m4849ulWKAILezgtizRJl2+9IxLM31Y8mp6KKACiiigAooooAKKKKACiiigAooooAKKKKACiiigAooooAKKKKACiiigAooooAKKKKACiiigAqOaCK4j2XESSp/ddQw/I1JRQBRfS1UD7Hc3FoR0CPuX6bWyAPoBTsalF3tbj6hoj/7Nn9KuUUAU/t0qf6+xuFHdk2uP0O79KP7Vsx/rZvI/67o0X/oQFXKKAI4biG4XdBKko9UYH+VSVXmsLO4bdPawSn1eMH+dR/2VaD/VxvD7QytH/wCgkUAXKKp/2ci/6u5uk/7bs3/oWaPsU3bUroD/AHYj/wCyUAXKKp/Y7kdNSuD/ALyR/wDxNH2S7/6CEn/fpP8ACgC5RVP7JdHrqM34Rp/8TR9in/6Cd1/3zF/8RQBcoqn9gZv9ZfXT/wDAwv8A6CBR/ZdufvNcN7NdSEfluoAtlgoJYgAdSaqtqtgrFftkJYfwq4LfkOaBpWngg/YoCw/iaME/matKqooVAFA6ADFAFT+0Vf8A1FtdTH08kp+r7RR52oSf6u1iiB7yy5Yf8BUEf+PVcooAomxuZnBur+Tb3jt18pT9Ty35MKlh0+1gkEkcCmX/AJ6N8z/99HmrNFABRRRQAUUUUAFFFFABRRRQAUUUUAFFFFABRRRQAUUUUAFFFFABRRRQAUUUUAFFFFABRRRQAUUUUAFFFFABRRRQAUUUUAFFFFABRRRQAUUUUAFFFFABRRRQAUUUUAFFFFABRRRQAUUUUAFFFFABRRRQAUUUUAFFFFABRRRQAUUUUAFFFFABRRRQB//Z)\n",
        "\n",
        "\n",
        "For basic introduction to network analysis, please see [DataCamp's GitHub page](https://github.com/trenton3983/DataCamp/blob/master/2020-05-21_intro_to_network_analysis_in_python.ipynb). You can also check out Trenton McKinney's Notebook [here](https://trenton3983.github.io/files/projects/2020-05-21_intro_to_network_analysis_in_python/2020-05-21_intro_to_network_analysis_in_python.html)."
      ],
      "metadata": {
        "id": "MdLaNeaGMXZ7"
      }
    },
    {
      "cell_type": "markdown",
      "source": [
        "## Section A. Installations and imports\n",
        "---\n",
        "\n"
      ],
      "metadata": {
        "id": "AcatyNhlww4z"
      }
    },
    {
      "cell_type": "markdown",
      "source": [
        "In this section, we install and import necessary python packagaes"
      ],
      "metadata": {
        "id": "6ba807yHOr7c"
      }
    },
    {
      "cell_type": "markdown",
      "source": [
        "### Install and import packages"
      ],
      "metadata": {
        "id": "aeTZVS0aw0RB"
      }
    },
    {
      "cell_type": "code",
      "source": [
        "!pip install nxviz"
      ],
      "metadata": {
        "id": "_xRlhwXqv6km",
        "colab": {
          "base_uri": "https://localhost:8080/",
          "height": 667
        },
        "outputId": "b71500ce-045f-4edb-efe4-97292da49542"
      },
      "execution_count": 1,
      "outputs": [
        {
          "output_type": "stream",
          "name": "stdout",
          "text": [
            "Collecting nxviz\n",
            "  Downloading nxviz-0.7.4-py3-none-any.whl (28 kB)\n",
            "Requirement already satisfied: numpy>=1.19.4 in /usr/local/lib/python3.7/dist-packages (from nxviz) (1.21.6)\n",
            "Requirement already satisfied: pandas>=1.2.0 in /usr/local/lib/python3.7/dist-packages (from nxviz) (1.3.5)\n",
            "Collecting matplotlib>=3.3.3\n",
            "  Downloading matplotlib-3.5.1-cp37-cp37m-manylinux_2_5_x86_64.manylinux1_x86_64.whl (11.2 MB)\n",
            "\u001b[K     |████████████████████████████████| 11.2 MB 8.0 MB/s \n",
            "\u001b[?25hRequirement already satisfied: seaborn>=0.11.1 in /usr/local/lib/python3.7/dist-packages (from nxviz) (0.11.2)\n",
            "Requirement already satisfied: palettable>=3.3.0 in /usr/local/lib/python3.7/dist-packages (from nxviz) (3.3.0)\n",
            "Requirement already satisfied: networkx>=2.5 in /usr/local/lib/python3.7/dist-packages (from nxviz) (2.6.3)\n",
            "Requirement already satisfied: more-itertools>=8.6.0 in /usr/local/lib/python3.7/dist-packages (from nxviz) (8.12.0)\n",
            "Requirement already satisfied: kiwisolver>=1.0.1 in /usr/local/lib/python3.7/dist-packages (from matplotlib>=3.3.3->nxviz) (1.4.2)\n",
            "Requirement already satisfied: pillow>=6.2.0 in /usr/local/lib/python3.7/dist-packages (from matplotlib>=3.3.3->nxviz) (7.1.2)\n",
            "Requirement already satisfied: cycler>=0.10 in /usr/local/lib/python3.7/dist-packages (from matplotlib>=3.3.3->nxviz) (0.11.0)\n",
            "Collecting fonttools>=4.22.0\n",
            "  Downloading fonttools-4.33.3-py3-none-any.whl (930 kB)\n",
            "\u001b[K     |████████████████████████████████| 930 kB 44.8 MB/s \n",
            "\u001b[?25hRequirement already satisfied: pyparsing>=2.2.1 in /usr/local/lib/python3.7/dist-packages (from matplotlib>=3.3.3->nxviz) (3.0.8)\n",
            "Requirement already satisfied: packaging>=20.0 in /usr/local/lib/python3.7/dist-packages (from matplotlib>=3.3.3->nxviz) (21.3)\n",
            "Requirement already satisfied: python-dateutil>=2.7 in /usr/local/lib/python3.7/dist-packages (from matplotlib>=3.3.3->nxviz) (2.8.2)\n",
            "Requirement already satisfied: typing-extensions in /usr/local/lib/python3.7/dist-packages (from kiwisolver>=1.0.1->matplotlib>=3.3.3->nxviz) (4.2.0)\n",
            "Requirement already satisfied: pytz>=2017.3 in /usr/local/lib/python3.7/dist-packages (from pandas>=1.2.0->nxviz) (2022.1)\n",
            "Requirement already satisfied: six>=1.5 in /usr/local/lib/python3.7/dist-packages (from python-dateutil>=2.7->matplotlib>=3.3.3->nxviz) (1.15.0)\n",
            "Requirement already satisfied: scipy>=1.0 in /usr/local/lib/python3.7/dist-packages (from seaborn>=0.11.1->nxviz) (1.4.1)\n",
            "Installing collected packages: fonttools, matplotlib, nxviz\n",
            "  Attempting uninstall: matplotlib\n",
            "    Found existing installation: matplotlib 3.2.2\n",
            "    Uninstalling matplotlib-3.2.2:\n",
            "      Successfully uninstalled matplotlib-3.2.2\n",
            "\u001b[31mERROR: pip's dependency resolver does not currently take into account all the packages that are installed. This behaviour is the source of the following dependency conflicts.\n",
            "albumentations 0.1.12 requires imgaug<0.2.7,>=0.2.5, but you have imgaug 0.2.9 which is incompatible.\u001b[0m\n",
            "Successfully installed fonttools-4.33.3 matplotlib-3.5.1 nxviz-0.7.4\n"
          ]
        },
        {
          "output_type": "display_data",
          "data": {
            "application/vnd.colab-display-data+json": {
              "pip_warning": {
                "packages": [
                  "matplotlib",
                  "mpl_toolkits"
                ]
              }
            }
          },
          "metadata": {}
        }
      ]
    },
    {
      "cell_type": "code",
      "source": [
        "!pip install matplotlib==3.1.3"
      ],
      "metadata": {
        "colab": {
          "base_uri": "https://localhost:8080/",
          "height": 446
        },
        "id": "FB47JbQqs12M",
        "outputId": "5c32bfe2-a1da-48eb-f07c-940ea3378fec"
      },
      "execution_count": 2,
      "outputs": [
        {
          "output_type": "stream",
          "name": "stdout",
          "text": [
            "Collecting matplotlib==3.1.3\n",
            "  Downloading matplotlib-3.1.3-cp37-cp37m-manylinux1_x86_64.whl (13.1 MB)\n",
            "\u001b[K     |████████████████████████████████| 13.1 MB 5.2 MB/s \n",
            "\u001b[?25hRequirement already satisfied: numpy>=1.11 in /usr/local/lib/python3.7/dist-packages (from matplotlib==3.1.3) (1.21.6)\n",
            "Requirement already satisfied: cycler>=0.10 in /usr/local/lib/python3.7/dist-packages (from matplotlib==3.1.3) (0.11.0)\n",
            "Requirement already satisfied: python-dateutil>=2.1 in /usr/local/lib/python3.7/dist-packages (from matplotlib==3.1.3) (2.8.2)\n",
            "Requirement already satisfied: pyparsing!=2.0.4,!=2.1.2,!=2.1.6,>=2.0.1 in /usr/local/lib/python3.7/dist-packages (from matplotlib==3.1.3) (3.0.8)\n",
            "Requirement already satisfied: kiwisolver>=1.0.1 in /usr/local/lib/python3.7/dist-packages (from matplotlib==3.1.3) (1.4.2)\n",
            "Requirement already satisfied: typing-extensions in /usr/local/lib/python3.7/dist-packages (from kiwisolver>=1.0.1->matplotlib==3.1.3) (4.2.0)\n",
            "Requirement already satisfied: six>=1.5 in /usr/local/lib/python3.7/dist-packages (from python-dateutil>=2.1->matplotlib==3.1.3) (1.15.0)\n",
            "Installing collected packages: matplotlib\n",
            "  Attempting uninstall: matplotlib\n",
            "    Found existing installation: matplotlib 3.5.1\n",
            "    Uninstalling matplotlib-3.5.1:\n",
            "      Successfully uninstalled matplotlib-3.5.1\n",
            "\u001b[31mERROR: pip's dependency resolver does not currently take into account all the packages that are installed. This behaviour is the source of the following dependency conflicts.\n",
            "nxviz 0.7.4 requires matplotlib>=3.3.3, but you have matplotlib 3.1.3 which is incompatible.\n",
            "albumentations 0.1.12 requires imgaug<0.2.7,>=0.2.5, but you have imgaug 0.2.9 which is incompatible.\u001b[0m\n",
            "Successfully installed matplotlib-3.1.3\n"
          ]
        },
        {
          "output_type": "display_data",
          "data": {
            "application/vnd.colab-display-data+json": {
              "pip_warning": {
                "packages": [
                  "matplotlib",
                  "mpl_toolkits"
                ]
              }
            }
          },
          "metadata": {}
        }
      ]
    },
    {
      "cell_type": "code",
      "execution_count": 1,
      "metadata": {
        "id": "UozISdSWvmy-",
        "colab": {
          "base_uri": "https://localhost:8080/"
        },
        "outputId": "8adb272e-09a1-4a58-9de2-3c6fca97cf96"
      },
      "outputs": [
        {
          "output_type": "stream",
          "name": "stderr",
          "text": [
            "/usr/local/lib/python3.7/dist-packages/nxviz/__init__.py:29: UserWarning: \n",
            "nxviz has a new API! Version 0.7.4 onwards, the old class-based API is being\n",
            "deprecated in favour of a new API focused on advancing a grammar of network\n",
            "graphics. If your plotting code depends on the old API, please consider\n",
            "pinning nxviz at version 0.7.4, as the new API will break your old code.\n",
            "\n",
            "To check out the new API, please head over to the docs at\n",
            "https://ericmjl.github.io/nxviz/ to learn more. We hope you enjoy using it!\n",
            "\n",
            "(This deprecation message will go away in version 1.0.)\n",
            "\n",
            "  \"\"\"\n"
          ]
        }
      ],
      "source": [
        "from pathlib import Path\n",
        "import requests\n",
        "import networkx as nx\n",
        "import nxviz as nv\n",
        "import matplotlib as mpl\n",
        "import matplotlib.pyplot as plt\n",
        "from datetime import datetime, date\n",
        "from pprint import pprint as pp\n",
        "from itertools import combinations\n",
        "import random\n",
        "from collections import Counter, defaultdict\n",
        "import numpy as np\n",
        "import statistics as stats\n",
        "import operator"
      ]
    },
    {
      "cell_type": "code",
      "source": [
        "print(f'NetworkX version: {nx.__version__}')\n",
        "print(f'Matplotlib version: {mpl.__version__}')"
      ],
      "metadata": {
        "colab": {
          "base_uri": "https://localhost:8080/"
        },
        "id": "OFrUHB_1wMv_",
        "outputId": "16630d9b-2ca3-43bd-ad91-3555d40b6704"
      },
      "execution_count": 2,
      "outputs": [
        {
          "output_type": "stream",
          "name": "stdout",
          "text": [
            "NetworkX version: 2.6.3\n",
            "Matplotlib version: 3.1.3\n"
          ]
        }
      ]
    },
    {
      "cell_type": "markdown",
      "source": [
        "## Section B. Load the dataset and pre-process the data\n",
        "---"
      ],
      "metadata": {
        "id": "vP1WeB0rw-4a"
      }
    },
    {
      "cell_type": "markdown",
      "source": [
        "\n",
        "Below we load the csv dataset downloaded from CrowdTangle (as pandas dataframe), and do data pre-processings. In the `PATH_TO_YOUR_DIRECTORY` string insert the path to your Google Drive folder where your csv dataset is located."
      ],
      "metadata": {
        "id": "jeFMSoCPWbXs"
      }
    },
    {
      "cell_type": "code",
      "source": [
        "from google.colab import drive\n",
        "drive.mount('/content/drive')"
      ],
      "metadata": {
        "colab": {
          "base_uri": "https://localhost:8080/"
        },
        "id": "vqanbY-9CcHj",
        "outputId": "b6b71e99-8bfb-4de1-d4c8-766568c4254d"
      },
      "execution_count": 3,
      "outputs": [
        {
          "output_type": "stream",
          "name": "stdout",
          "text": [
            "Mounted at /content/drive\n"
          ]
        }
      ]
    },
    {
      "cell_type": "code",
      "source": [
        "import os\n",
        "os.chdir(\"/content/drive/MyDrive/YOUR_PATH_HERE\")"
      ],
      "metadata": {
        "id": "-L6Kp7qrDU60"
      },
      "execution_count": 4,
      "outputs": []
    },
    {
      "cell_type": "code",
      "source": [
        "import pandas as pd\n",
        "import time"
      ],
      "metadata": {
        "id": "9qG0sPar1K0J"
      },
      "execution_count": 5,
      "outputs": []
    },
    {
      "cell_type": "markdown",
      "source": [
        "Below we load the csv datasets as pandas dataframe."
      ],
      "metadata": {
        "id": "176FdEBGYrQo"
      }
    },
    {
      "cell_type": "code",
      "source": [
        "# load csv data as pandas dataframe\n",
        "csv_data_p = pd.read_csv(\"file1.csv\", low_memory=False,  lineterminator='\\n', sep=';', error_bad_lines=False)\n",
        "\n",
        "csv_data_n = pd.read_csv(\"file2.csv\", low_memory=False,  lineterminator='\\n', sep=';', error_bad_lines=False)\n",
        "\n",
        "csv_data_s = pd.read_csv(\"file3.csv\", low_memory=False,  lineterminator='\\n', sep=';', error_bad_lines=False)\n"
      ],
      "metadata": {
        "id": "pMaMKEw65SPv",
        "colab": {
          "base_uri": "https://localhost:8080/"
        },
        "outputId": "91fe44cd-8526-428a-d596-813c6149219a"
      },
      "execution_count": 6,
      "outputs": [
        {
          "output_type": "stream",
          "name": "stderr",
          "text": [
            "/usr/local/lib/python3.7/dist-packages/IPython/core/interactiveshell.py:2882: FutureWarning: The error_bad_lines argument has been deprecated and will be removed in a future version.\n",
            "\n",
            "\n",
            "  exec(code_obj, self.user_global_ns, self.user_ns)\n"
          ]
        }
      ]
    },
    {
      "cell_type": "markdown",
      "source": [
        "Let us now enquire the shape of the dataset and print available columns to the dataset"
      ],
      "metadata": {
        "id": "Imxy76ebYxdj"
      }
    },
    {
      "cell_type": "code",
      "source": [
        "print (csv_data_p.shape)\n",
        "print (csv_data_n.shape)\n",
        "print (csv_data_s.shape)"
      ],
      "metadata": {
        "colab": {
          "base_uri": "https://localhost:8080/"
        },
        "id": "Kd-8T5hx5krf",
        "outputId": "34e4615b-30e4-4978-9dc6-91122842ebc6"
      },
      "execution_count": 7,
      "outputs": [
        {
          "output_type": "stream",
          "name": "stdout",
          "text": [
            "(70886, 40)\n",
            "(6679, 40)\n",
            "(16343, 40)\n"
          ]
        }
      ]
    },
    {
      "cell_type": "code",
      "source": [
        "csv_data_p.columns"
      ],
      "metadata": {
        "colab": {
          "base_uri": "https://localhost:8080/"
        },
        "id": "ZvqS025iDidZ",
        "outputId": "966f2ba6-90c6-4cf6-b223-24ba5c70d565"
      },
      "execution_count": 8,
      "outputs": [
        {
          "output_type": "execute_result",
          "data": {
            "text/plain": [
              "Index(['account.name', 'account.handle', 'platformId', 'Page Category',\n",
              "       'Page Admin Top Country', 'Page Description', 'Page Created',\n",
              "       'subscriberCount', 'Followers at Posting', 'date', 'Post Created Date',\n",
              "       'Post Created Time', 'type', 'totalInteraction',\n",
              "       'statistics.actual.likeCount', 'statistics.actual.commentCount',\n",
              "       'statistics.actual.shareCount', 'statistics.actual.loveCount',\n",
              "       'statistics.actual.wowCount', 'statistics.actual.hahaCount',\n",
              "       'statistics.actual.sadCount', 'statistics.actual.angryCount',\n",
              "       'statistics.actual.careCount', 'Video Share Status', 'Is Video Owner?',\n",
              "       'statistics.actual.videoPostViewCount',\n",
              "       'statistics.actual.videoTotalViewCount',\n",
              "       'statistics.actual.videoAllCrosspostsViewCount', 'Video Length',\n",
              "       'postUrl', 'message', 'expandedLinks.original',\n",
              "       'expandedLinks.expanded', 'imageText', 'title', 'description',\n",
              "       'brandedContentSponsor.platformId', 'brandedContentSponsor.name',\n",
              "       'brandedContentSponsor.category', 'score'],\n",
              "      dtype='object')"
            ]
          },
          "metadata": {},
          "execution_count": 8
        }
      ]
    },
    {
      "cell_type": "code",
      "source": [
        "# show the csv data set\n",
        "display(csv_data_p)"
      ],
      "metadata": {
        "id": "G7v2S1wnBOjO",
        "colab": {
          "base_uri": "https://localhost:8080/",
          "height": 1000
        },
        "outputId": "e8991190-0434-4c2c-fe32-9d0e0181433f"
      },
      "execution_count": 9,
      "outputs": [
        {
          "output_type": "display_data",
          "data": {
            "text/plain": [
              "                              account.name           account.handle  \\\n",
              "0      पुष्पेंद्र कुलश्रेष्ठ हिन्दू योद्धा     PushpendraKulshresht   \n",
              "1               Pushpendra Kulshresth Fans     PushpendraKulshresth   \n",
              "2                          पुष्पेन्द्रफैंस            puspendrafans   \n",
              "3          पुष्पेंद्र कुलश्रेष्ठ फैंस क्लब           Pushpendrarss2   \n",
              "4         Pushpendra Kulshrestha Fans Club            Pushpendrarss   \n",
              "...                                    ...                      ...   \n",
              "70881  Pushpendra Kulshrestha Support Team  PushpendraKulshrestha21   \n",
              "70882  Pushpendra Kulshrestha Support Team  PushpendraKulshrestha21   \n",
              "70883  Pushpendra Kulshrestha Support Team  PushpendraKulshrestha21   \n",
              "70884  Pushpendra Kulshrestha Support Team  PushpendraKulshrestha21   \n",
              "70885  Pushpendra Kulshrestha Support Team  PushpendraKulshrestha21   \n",
              "\n",
              "             platformId         Page Category Page Admin Top Country  \\\n",
              "0       111429147220605  GAMING_VIDEO_CREATOR                     IN   \n",
              "1       112670183467892                 MEDIA                     IN   \n",
              "2       105424034616839    TOPIC_JUST_FOR_FUN                     IN   \n",
              "3       113214903796196             COMMUNITY                     IN   \n",
              "4       313739616231431      ACTIVITY_GENERAL                     IN   \n",
              "...                 ...                   ...                    ...   \n",
              "70881  1888295888151386             COMMUNITY                     IN   \n",
              "70882  1888295888151386             COMMUNITY                     IN   \n",
              "70883  1888295888151386             COMMUNITY                     IN   \n",
              "70884  1888295888151386             COMMUNITY                     IN   \n",
              "70885  1888295888151386             COMMUNITY                     IN   \n",
              "\n",
              "                                        Page Description         Page Created  \\\n",
              "0                                   Gaming video creator  2020-04-30 18:00:43   \n",
              "1      पूरी दुनिया के आगे सिर्फ सच्चाई को बताना और लो...  2019-09-27 09:14:14   \n",
              "2       पेज में wehindu00  पुष्पेन्द्र जी का प्रसंसक ...  2020-08-21 03:58:49   \n",
              "3      पेज से जुड़ने के लिए आपका धन्यवाद, आशा करते है ...  2020-07-13 06:39:03   \n",
              "4      पेज से जुड़ने के लिए आपका धन्यवाद, आशा करते है ...  2019-06-07 08:59:33   \n",
              "...                                                  ...                  ...   \n",
              "70881  india में सबसे popular वक्ता आदरणीय pushpendra...  2017-11-10 15:36:11   \n",
              "70882  india में सबसे popular वक्ता आदरणीय pushpendra...  2017-11-10 15:36:11   \n",
              "70883  india में सबसे popular वक्ता आदरणीय pushpendra...  2017-11-10 15:36:11   \n",
              "70884  india में सबसे popular वक्ता आदरणीय pushpendra...  2017-11-10 15:36:11   \n",
              "70885  india में सबसे popular वक्ता आदरणीय pushpendra...  2017-11-10 15:36:11   \n",
              "\n",
              "       subscriberCount  Followers at Posting                      date  ...  \\\n",
              "0              15643.0               89269.0  2022-04-11 10:32:58 CEST  ...   \n",
              "1              58769.0               86404.0  2022-04-11 10:26:56 CEST  ...   \n",
              "2               3717.0                3841.0  2022-04-11 10:20:36 CEST  ...   \n",
              "3              59492.0               92711.0  2022-04-11 10:02:55 CEST  ...   \n",
              "4             445933.0              853709.0  2022-04-11 09:55:51 CEST  ...   \n",
              "...                ...                   ...                       ...  ...   \n",
              "70881              NaN                   NaN   2017-11-17 14:53:54 CET  ...   \n",
              "70882              NaN                   NaN   2017-11-16 18:59:34 CET  ...   \n",
              "70883              NaN                   NaN   2017-11-12 17:30:32 CET  ...   \n",
              "70884              NaN                   NaN   2017-11-11 14:57:50 CET  ...   \n",
              "70885              NaN                   NaN   2017-11-10 17:17:20 CET  ...   \n",
              "\n",
              "                                                 message  \\\n",
              "0                                       🙏🌹🚩#जयश्रीराम🚩🌹🙏   \n",
              "1      ▪️विश्व विजयी भारतीय संस्कृति🚩 _______________...   \n",
              "2      Manoj Muntashir ने बताया इतिहास कहा जब देश में...   \n",
              "3      शत्रुघ्न सिन्हा ने अमिताभ बच्चन से दोस्ती में ...   \n",
              "4      जब तारक मेहता की बबीता जी ने सालों पुराना दर्द...   \n",
              "...                                                  ...   \n",
              "70881  गुजरात चुनाव के लिए BJP Gujarat के उम्मीदवारों...   \n",
              "70882                                                NaN   \n",
              "70883  Narendra Modi के प्रधानमन्त्री बनने से पहले क्...   \n",
              "70884  जिस अमेरिका ने Narendra Modi को वीज़ा देने से म...   \n",
              "70885          आओ एक बार फिर 2019 के लिए मुहीम शुरू करें   \n",
              "\n",
              "                                  expandedLinks.original  \\\n",
              "0      https://www.facebook.com/287150574699511/photo...   \n",
              "1      https://www.facebook.com/PushpendraKulshresth/...   \n",
              "2      https://www.facebook.com/puspendrafans/videos/...   \n",
              "3      https://sachkhabar.co.in/shatrughan-sinha-had-...   \n",
              "4      https://appearnews.com/when-taarak-mehtas-babi...   \n",
              "...                                                  ...   \n",
              "70881  https://www.facebook.com/PushpendraKulshrestha...   \n",
              "70882  https://www.facebook.com/PushpendraKulshrestha...   \n",
              "70883  https://www.facebook.com/PushpendraKulshrestha...   \n",
              "70884  https://www.facebook.com/PushpendraKulshrestha...   \n",
              "70885                                                NaN   \n",
              "\n",
              "      expandedLinks.expanded  \\\n",
              "0                        NaN   \n",
              "1                        NaN   \n",
              "2                        NaN   \n",
              "3                        NaN   \n",
              "4                        NaN   \n",
              "...                      ...   \n",
              "70881                    NaN   \n",
              "70882                    NaN   \n",
              "70883                    NaN   \n",
              "70884                    NaN   \n",
              "70885                    NaN   \n",
              "\n",
              "                                               imageText  \\\n",
              "0      भाई चारे की बात करने वाले हिंदुओ ।देखो \"आज देश...   \n",
              "1                                                    NaN   \n",
              "2                                                    NaN   \n",
              "3                                                    NaN   \n",
              "4                                                    NaN   \n",
              "...                                                  ...   \n",
              "70881                                                NaN   \n",
              "70882                                                NaN   \n",
              "70883                                                NaN   \n",
              "70884                                                NaN   \n",
              "70885                                                NaN   \n",
              "\n",
              "                                                   title  \\\n",
              "0                                                देशभक्त   \n",
              "1                                                    NaN   \n",
              "2      Manoj Muntashir ने बताया इतिहास कहा जब देश में...   \n",
              "3      शत्रुघ्न सिन्हा ने अमिताभ बच्चन से दोस्ती में ...   \n",
              "4      जब तारक मेहता की बबीता जी ने सालों पुराना दर्द...   \n",
              "...                                                  ...   \n",
              "70881  Photos from Pushpendra Kulshrestha Support Tea...   \n",
              "70882                                                NaN   \n",
              "70883                                                NaN   \n",
              "70884                                                NaN   \n",
              "70885                                                NaN   \n",
              "\n",
              "                                             description  \\\n",
              "0        #हिन्दूएकता ✊️🙏🌹🚩#जयश्रीराम🚩🌹🙏\\n#लाइक & #शेयर 🙏   \n",
              "1                                                    NaN   \n",
              "2                                                    NaN   \n",
              "3      बॉलीवुड के जाने-माने सितारे और शत्रुघ्न सिन्हा...   \n",
              "4      तारक मेहता का उल्टा चश्मा (Taarak Mehta Ka Ool...   \n",
              "...                                                  ...   \n",
              "70881                                                NaN   \n",
              "70882                                                NaN   \n",
              "70883                                                NaN   \n",
              "70884                                                NaN   \n",
              "70885                                                NaN   \n",
              "\n",
              "       brandedContentSponsor.platformId  brandedContentSponsor.name  \\\n",
              "0                                   NaN                         NaN   \n",
              "1                                   NaN                         NaN   \n",
              "2                                   NaN                         NaN   \n",
              "3                                   NaN                         NaN   \n",
              "4                                   NaN                         NaN   \n",
              "...                                 ...                         ...   \n",
              "70881                               NaN                         NaN   \n",
              "70882                               NaN                         NaN   \n",
              "70883                               NaN                         NaN   \n",
              "70884                               NaN                         NaN   \n",
              "70885                               NaN                         NaN   \n",
              "\n",
              "       brandedContentSponsor.category  score  \n",
              "0                                 NaN  -8.67  \n",
              "1                                 NaN  -5.56  \n",
              "2                                 NaN  -1.62  \n",
              "3                                 NaN  -0.83  \n",
              "4                                 NaN   -2.8  \n",
              "...                               ...    ...  \n",
              "70881                             NaN    -60  \n",
              "70882                             NaN    -60  \n",
              "70883                             NaN  -1.74  \n",
              "70884                             NaN  -13.5  \n",
              "70885                             NaN    -64  \n",
              "\n",
              "[70886 rows x 40 columns]"
            ],
            "text/html": [
              "\n",
              "  <div id=\"df-73836525-22ba-48f7-af85-645c6d1280f2\">\n",
              "    <div class=\"colab-df-container\">\n",
              "      <div>\n",
              "<style scoped>\n",
              "    .dataframe tbody tr th:only-of-type {\n",
              "        vertical-align: middle;\n",
              "    }\n",
              "\n",
              "    .dataframe tbody tr th {\n",
              "        vertical-align: top;\n",
              "    }\n",
              "\n",
              "    .dataframe thead th {\n",
              "        text-align: right;\n",
              "    }\n",
              "</style>\n",
              "<table border=\"1\" class=\"dataframe\">\n",
              "  <thead>\n",
              "    <tr style=\"text-align: right;\">\n",
              "      <th></th>\n",
              "      <th>account.name</th>\n",
              "      <th>account.handle</th>\n",
              "      <th>platformId</th>\n",
              "      <th>Page Category</th>\n",
              "      <th>Page Admin Top Country</th>\n",
              "      <th>Page Description</th>\n",
              "      <th>Page Created</th>\n",
              "      <th>subscriberCount</th>\n",
              "      <th>Followers at Posting</th>\n",
              "      <th>date</th>\n",
              "      <th>...</th>\n",
              "      <th>message</th>\n",
              "      <th>expandedLinks.original</th>\n",
              "      <th>expandedLinks.expanded</th>\n",
              "      <th>imageText</th>\n",
              "      <th>title</th>\n",
              "      <th>description</th>\n",
              "      <th>brandedContentSponsor.platformId</th>\n",
              "      <th>brandedContentSponsor.name</th>\n",
              "      <th>brandedContentSponsor.category</th>\n",
              "      <th>score</th>\n",
              "    </tr>\n",
              "  </thead>\n",
              "  <tbody>\n",
              "    <tr>\n",
              "      <th>0</th>\n",
              "      <td>पुष्पेंद्र कुलश्रेष्ठ हिन्दू योद्धा</td>\n",
              "      <td>PushpendraKulshresht</td>\n",
              "      <td>111429147220605</td>\n",
              "      <td>GAMING_VIDEO_CREATOR</td>\n",
              "      <td>IN</td>\n",
              "      <td>Gaming video creator</td>\n",
              "      <td>2020-04-30 18:00:43</td>\n",
              "      <td>15643.0</td>\n",
              "      <td>89269.0</td>\n",
              "      <td>2022-04-11 10:32:58 CEST</td>\n",
              "      <td>...</td>\n",
              "      <td>🙏🌹🚩#जयश्रीराम🚩🌹🙏</td>\n",
              "      <td>https://www.facebook.com/287150574699511/photo...</td>\n",
              "      <td>NaN</td>\n",
              "      <td>भाई चारे की बात करने वाले हिंदुओ ।देखो \"आज देश...</td>\n",
              "      <td>देशभक्त</td>\n",
              "      <td>#हिन्दूएकता ✊️🙏🌹🚩#जयश्रीराम🚩🌹🙏\\n#लाइक &amp; #शेयर 🙏</td>\n",
              "      <td>NaN</td>\n",
              "      <td>NaN</td>\n",
              "      <td>NaN</td>\n",
              "      <td>-8.67</td>\n",
              "    </tr>\n",
              "    <tr>\n",
              "      <th>1</th>\n",
              "      <td>Pushpendra Kulshresth Fans</td>\n",
              "      <td>PushpendraKulshresth</td>\n",
              "      <td>112670183467892</td>\n",
              "      <td>MEDIA</td>\n",
              "      <td>IN</td>\n",
              "      <td>पूरी दुनिया के आगे सिर्फ सच्चाई को बताना और लो...</td>\n",
              "      <td>2019-09-27 09:14:14</td>\n",
              "      <td>58769.0</td>\n",
              "      <td>86404.0</td>\n",
              "      <td>2022-04-11 10:26:56 CEST</td>\n",
              "      <td>...</td>\n",
              "      <td>▪️विश्व विजयी भारतीय संस्कृति🚩 _______________...</td>\n",
              "      <td>https://www.facebook.com/PushpendraKulshresth/...</td>\n",
              "      <td>NaN</td>\n",
              "      <td>NaN</td>\n",
              "      <td>NaN</td>\n",
              "      <td>NaN</td>\n",
              "      <td>NaN</td>\n",
              "      <td>NaN</td>\n",
              "      <td>NaN</td>\n",
              "      <td>-5.56</td>\n",
              "    </tr>\n",
              "    <tr>\n",
              "      <th>2</th>\n",
              "      <td>पुष्पेन्द्रफैंस</td>\n",
              "      <td>puspendrafans</td>\n",
              "      <td>105424034616839</td>\n",
              "      <td>TOPIC_JUST_FOR_FUN</td>\n",
              "      <td>IN</td>\n",
              "      <td>पेज में wehindu00  पुष्पेन्द्र जी का प्रसंसक ...</td>\n",
              "      <td>2020-08-21 03:58:49</td>\n",
              "      <td>3717.0</td>\n",
              "      <td>3841.0</td>\n",
              "      <td>2022-04-11 10:20:36 CEST</td>\n",
              "      <td>...</td>\n",
              "      <td>Manoj Muntashir ने बताया इतिहास कहा जब देश में...</td>\n",
              "      <td>https://www.facebook.com/puspendrafans/videos/...</td>\n",
              "      <td>NaN</td>\n",
              "      <td>NaN</td>\n",
              "      <td>Manoj Muntashir ने बताया इतिहास कहा जब देश में...</td>\n",
              "      <td>NaN</td>\n",
              "      <td>NaN</td>\n",
              "      <td>NaN</td>\n",
              "      <td>NaN</td>\n",
              "      <td>-1.62</td>\n",
              "    </tr>\n",
              "    <tr>\n",
              "      <th>3</th>\n",
              "      <td>पुष्पेंद्र कुलश्रेष्ठ फैंस क्लब</td>\n",
              "      <td>Pushpendrarss2</td>\n",
              "      <td>113214903796196</td>\n",
              "      <td>COMMUNITY</td>\n",
              "      <td>IN</td>\n",
              "      <td>पेज से जुड़ने के लिए आपका धन्यवाद, आशा करते है ...</td>\n",
              "      <td>2020-07-13 06:39:03</td>\n",
              "      <td>59492.0</td>\n",
              "      <td>92711.0</td>\n",
              "      <td>2022-04-11 10:02:55 CEST</td>\n",
              "      <td>...</td>\n",
              "      <td>शत्रुघ्न सिन्हा ने अमिताभ बच्चन से दोस्ती में ...</td>\n",
              "      <td>https://sachkhabar.co.in/shatrughan-sinha-had-...</td>\n",
              "      <td>NaN</td>\n",
              "      <td>NaN</td>\n",
              "      <td>शत्रुघ्न सिन्हा ने अमिताभ बच्चन से दोस्ती में ...</td>\n",
              "      <td>बॉलीवुड के जाने-माने सितारे और शत्रुघ्न सिन्हा...</td>\n",
              "      <td>NaN</td>\n",
              "      <td>NaN</td>\n",
              "      <td>NaN</td>\n",
              "      <td>-0.83</td>\n",
              "    </tr>\n",
              "    <tr>\n",
              "      <th>4</th>\n",
              "      <td>Pushpendra Kulshrestha Fans Club</td>\n",
              "      <td>Pushpendrarss</td>\n",
              "      <td>313739616231431</td>\n",
              "      <td>ACTIVITY_GENERAL</td>\n",
              "      <td>IN</td>\n",
              "      <td>पेज से जुड़ने के लिए आपका धन्यवाद, आशा करते है ...</td>\n",
              "      <td>2019-06-07 08:59:33</td>\n",
              "      <td>445933.0</td>\n",
              "      <td>853709.0</td>\n",
              "      <td>2022-04-11 09:55:51 CEST</td>\n",
              "      <td>...</td>\n",
              "      <td>जब तारक मेहता की बबीता जी ने सालों पुराना दर्द...</td>\n",
              "      <td>https://appearnews.com/when-taarak-mehtas-babi...</td>\n",
              "      <td>NaN</td>\n",
              "      <td>NaN</td>\n",
              "      <td>जब तारक मेहता की बबीता जी ने सालों पुराना दर्द...</td>\n",
              "      <td>तारक मेहता का उल्टा चश्मा (Taarak Mehta Ka Ool...</td>\n",
              "      <td>NaN</td>\n",
              "      <td>NaN</td>\n",
              "      <td>NaN</td>\n",
              "      <td>-2.8</td>\n",
              "    </tr>\n",
              "    <tr>\n",
              "      <th>...</th>\n",
              "      <td>...</td>\n",
              "      <td>...</td>\n",
              "      <td>...</td>\n",
              "      <td>...</td>\n",
              "      <td>...</td>\n",
              "      <td>...</td>\n",
              "      <td>...</td>\n",
              "      <td>...</td>\n",
              "      <td>...</td>\n",
              "      <td>...</td>\n",
              "      <td>...</td>\n",
              "      <td>...</td>\n",
              "      <td>...</td>\n",
              "      <td>...</td>\n",
              "      <td>...</td>\n",
              "      <td>...</td>\n",
              "      <td>...</td>\n",
              "      <td>...</td>\n",
              "      <td>...</td>\n",
              "      <td>...</td>\n",
              "      <td>...</td>\n",
              "    </tr>\n",
              "    <tr>\n",
              "      <th>70881</th>\n",
              "      <td>Pushpendra Kulshrestha Support Team</td>\n",
              "      <td>PushpendraKulshrestha21</td>\n",
              "      <td>1888295888151386</td>\n",
              "      <td>COMMUNITY</td>\n",
              "      <td>IN</td>\n",
              "      <td>india में सबसे popular वक्ता आदरणीय pushpendra...</td>\n",
              "      <td>2017-11-10 15:36:11</td>\n",
              "      <td>NaN</td>\n",
              "      <td>NaN</td>\n",
              "      <td>2017-11-17 14:53:54 CET</td>\n",
              "      <td>...</td>\n",
              "      <td>गुजरात चुनाव के लिए BJP Gujarat के उम्मीदवारों...</td>\n",
              "      <td>https://www.facebook.com/PushpendraKulshrestha...</td>\n",
              "      <td>NaN</td>\n",
              "      <td>NaN</td>\n",
              "      <td>Photos from Pushpendra Kulshrestha Support Tea...</td>\n",
              "      <td>NaN</td>\n",
              "      <td>NaN</td>\n",
              "      <td>NaN</td>\n",
              "      <td>NaN</td>\n",
              "      <td>-60</td>\n",
              "    </tr>\n",
              "    <tr>\n",
              "      <th>70882</th>\n",
              "      <td>Pushpendra Kulshrestha Support Team</td>\n",
              "      <td>PushpendraKulshrestha21</td>\n",
              "      <td>1888295888151386</td>\n",
              "      <td>COMMUNITY</td>\n",
              "      <td>IN</td>\n",
              "      <td>india में सबसे popular वक्ता आदरणीय pushpendra...</td>\n",
              "      <td>2017-11-10 15:36:11</td>\n",
              "      <td>NaN</td>\n",
              "      <td>NaN</td>\n",
              "      <td>2017-11-16 18:59:34 CET</td>\n",
              "      <td>...</td>\n",
              "      <td>NaN</td>\n",
              "      <td>https://www.facebook.com/PushpendraKulshrestha...</td>\n",
              "      <td>NaN</td>\n",
              "      <td>NaN</td>\n",
              "      <td>NaN</td>\n",
              "      <td>NaN</td>\n",
              "      <td>NaN</td>\n",
              "      <td>NaN</td>\n",
              "      <td>NaN</td>\n",
              "      <td>-60</td>\n",
              "    </tr>\n",
              "    <tr>\n",
              "      <th>70883</th>\n",
              "      <td>Pushpendra Kulshrestha Support Team</td>\n",
              "      <td>PushpendraKulshrestha21</td>\n",
              "      <td>1888295888151386</td>\n",
              "      <td>COMMUNITY</td>\n",
              "      <td>IN</td>\n",
              "      <td>india में सबसे popular वक्ता आदरणीय pushpendra...</td>\n",
              "      <td>2017-11-10 15:36:11</td>\n",
              "      <td>NaN</td>\n",
              "      <td>NaN</td>\n",
              "      <td>2017-11-12 17:30:32 CET</td>\n",
              "      <td>...</td>\n",
              "      <td>Narendra Modi के प्रधानमन्त्री बनने से पहले क्...</td>\n",
              "      <td>https://www.facebook.com/PushpendraKulshrestha...</td>\n",
              "      <td>NaN</td>\n",
              "      <td>NaN</td>\n",
              "      <td>NaN</td>\n",
              "      <td>NaN</td>\n",
              "      <td>NaN</td>\n",
              "      <td>NaN</td>\n",
              "      <td>NaN</td>\n",
              "      <td>-1.74</td>\n",
              "    </tr>\n",
              "    <tr>\n",
              "      <th>70884</th>\n",
              "      <td>Pushpendra Kulshrestha Support Team</td>\n",
              "      <td>PushpendraKulshrestha21</td>\n",
              "      <td>1888295888151386</td>\n",
              "      <td>COMMUNITY</td>\n",
              "      <td>IN</td>\n",
              "      <td>india में सबसे popular वक्ता आदरणीय pushpendra...</td>\n",
              "      <td>2017-11-10 15:36:11</td>\n",
              "      <td>NaN</td>\n",
              "      <td>NaN</td>\n",
              "      <td>2017-11-11 14:57:50 CET</td>\n",
              "      <td>...</td>\n",
              "      <td>जिस अमेरिका ने Narendra Modi को वीज़ा देने से म...</td>\n",
              "      <td>https://www.facebook.com/PushpendraKulshrestha...</td>\n",
              "      <td>NaN</td>\n",
              "      <td>NaN</td>\n",
              "      <td>NaN</td>\n",
              "      <td>NaN</td>\n",
              "      <td>NaN</td>\n",
              "      <td>NaN</td>\n",
              "      <td>NaN</td>\n",
              "      <td>-13.5</td>\n",
              "    </tr>\n",
              "    <tr>\n",
              "      <th>70885</th>\n",
              "      <td>Pushpendra Kulshrestha Support Team</td>\n",
              "      <td>PushpendraKulshrestha21</td>\n",
              "      <td>1888295888151386</td>\n",
              "      <td>COMMUNITY</td>\n",
              "      <td>IN</td>\n",
              "      <td>india में सबसे popular वक्ता आदरणीय pushpendra...</td>\n",
              "      <td>2017-11-10 15:36:11</td>\n",
              "      <td>NaN</td>\n",
              "      <td>NaN</td>\n",
              "      <td>2017-11-10 17:17:20 CET</td>\n",
              "      <td>...</td>\n",
              "      <td>आओ एक बार फिर 2019 के लिए मुहीम शुरू करें</td>\n",
              "      <td>NaN</td>\n",
              "      <td>NaN</td>\n",
              "      <td>NaN</td>\n",
              "      <td>NaN</td>\n",
              "      <td>NaN</td>\n",
              "      <td>NaN</td>\n",
              "      <td>NaN</td>\n",
              "      <td>NaN</td>\n",
              "      <td>-64</td>\n",
              "    </tr>\n",
              "  </tbody>\n",
              "</table>\n",
              "<p>70886 rows × 40 columns</p>\n",
              "</div>\n",
              "      <button class=\"colab-df-convert\" onclick=\"convertToInteractive('df-73836525-22ba-48f7-af85-645c6d1280f2')\"\n",
              "              title=\"Convert this dataframe to an interactive table.\"\n",
              "              style=\"display:none;\">\n",
              "        \n",
              "  <svg xmlns=\"http://www.w3.org/2000/svg\" height=\"24px\"viewBox=\"0 0 24 24\"\n",
              "       width=\"24px\">\n",
              "    <path d=\"M0 0h24v24H0V0z\" fill=\"none\"/>\n",
              "    <path d=\"M18.56 5.44l.94 2.06.94-2.06 2.06-.94-2.06-.94-.94-2.06-.94 2.06-2.06.94zm-11 1L8.5 8.5l.94-2.06 2.06-.94-2.06-.94L8.5 2.5l-.94 2.06-2.06.94zm10 10l.94 2.06.94-2.06 2.06-.94-2.06-.94-.94-2.06-.94 2.06-2.06.94z\"/><path d=\"M17.41 7.96l-1.37-1.37c-.4-.4-.92-.59-1.43-.59-.52 0-1.04.2-1.43.59L10.3 9.45l-7.72 7.72c-.78.78-.78 2.05 0 2.83L4 21.41c.39.39.9.59 1.41.59.51 0 1.02-.2 1.41-.59l7.78-7.78 2.81-2.81c.8-.78.8-2.07 0-2.86zM5.41 20L4 18.59l7.72-7.72 1.47 1.35L5.41 20z\"/>\n",
              "  </svg>\n",
              "      </button>\n",
              "      \n",
              "  <style>\n",
              "    .colab-df-container {\n",
              "      display:flex;\n",
              "      flex-wrap:wrap;\n",
              "      gap: 12px;\n",
              "    }\n",
              "\n",
              "    .colab-df-convert {\n",
              "      background-color: #E8F0FE;\n",
              "      border: none;\n",
              "      border-radius: 50%;\n",
              "      cursor: pointer;\n",
              "      display: none;\n",
              "      fill: #1967D2;\n",
              "      height: 32px;\n",
              "      padding: 0 0 0 0;\n",
              "      width: 32px;\n",
              "    }\n",
              "\n",
              "    .colab-df-convert:hover {\n",
              "      background-color: #E2EBFA;\n",
              "      box-shadow: 0px 1px 2px rgba(60, 64, 67, 0.3), 0px 1px 3px 1px rgba(60, 64, 67, 0.15);\n",
              "      fill: #174EA6;\n",
              "    }\n",
              "\n",
              "    [theme=dark] .colab-df-convert {\n",
              "      background-color: #3B4455;\n",
              "      fill: #D2E3FC;\n",
              "    }\n",
              "\n",
              "    [theme=dark] .colab-df-convert:hover {\n",
              "      background-color: #434B5C;\n",
              "      box-shadow: 0px 1px 3px 1px rgba(0, 0, 0, 0.15);\n",
              "      filter: drop-shadow(0px 1px 2px rgba(0, 0, 0, 0.3));\n",
              "      fill: #FFFFFF;\n",
              "    }\n",
              "  </style>\n",
              "\n",
              "      <script>\n",
              "        const buttonEl =\n",
              "          document.querySelector('#df-73836525-22ba-48f7-af85-645c6d1280f2 button.colab-df-convert');\n",
              "        buttonEl.style.display =\n",
              "          google.colab.kernel.accessAllowed ? 'block' : 'none';\n",
              "\n",
              "        async function convertToInteractive(key) {\n",
              "          const element = document.querySelector('#df-73836525-22ba-48f7-af85-645c6d1280f2');\n",
              "          const dataTable =\n",
              "            await google.colab.kernel.invokeFunction('convertToInteractive',\n",
              "                                                     [key], {});\n",
              "          if (!dataTable) return;\n",
              "\n",
              "          const docLinkHtml = 'Like what you see? Visit the ' +\n",
              "            '<a target=\"_blank\" href=https://colab.research.google.com/notebooks/data_table.ipynb>data table notebook</a>'\n",
              "            + ' to learn more about interactive tables.';\n",
              "          element.innerHTML = '';\n",
              "          dataTable['output_type'] = 'display_data';\n",
              "          await google.colab.output.renderOutput(dataTable, element);\n",
              "          const docLink = document.createElement('div');\n",
              "          docLink.innerHTML = docLinkHtml;\n",
              "          element.appendChild(docLink);\n",
              "        }\n",
              "      </script>\n",
              "    </div>\n",
              "  </div>\n",
              "  "
            ]
          },
          "metadata": {}
        }
      ]
    },
    {
      "cell_type": "markdown",
      "source": [
        "### Change the individual `account names` to the `group names`\n",
        "\n",
        "\n",
        "\n",
        "> (**OPTIONAL**: do this only if you want to visualise the connections between the groups - will lose the granularity of the actor names)\n",
        "\n",
        "\n",
        "\n",
        "\n",
        "\n",
        "\n",
        "\n"
      ],
      "metadata": {
        "id": "hChpdk5TbvTF"
      }
    },
    {
      "cell_type": "code",
      "source": [
        "csv_data_p ['account.name'] = 'Pushpendra Group'\n",
        "csv_data_n ['account.name'] = 'Narsinganand Group'\n",
        "csv_data_s ['account.name'] = 'Suresh Chavanke Group'"
      ],
      "metadata": {
        "id": "hiL3hlVGWfG6"
      },
      "execution_count": null,
      "outputs": []
    },
    {
      "cell_type": "code",
      "source": [
        "# show the csv data set\n",
        "display(csv_data_s)"
      ],
      "metadata": {
        "id": "6AVwqAIMYgK-"
      },
      "execution_count": null,
      "outputs": []
    },
    {
      "cell_type": "markdown",
      "source": [
        "### Concatenate three pandas dataframes into one dataframe"
      ],
      "metadata": {
        "id": "mdNawxbAb6bU"
      }
    },
    {
      "cell_type": "code",
      "source": [
        "csv_data = pd.concat([csv_data_p, csv_data_n, csv_data_s], axis=0)"
      ],
      "metadata": {
        "id": "4iJsUy8iZeI_"
      },
      "execution_count": 10,
      "outputs": []
    },
    {
      "cell_type": "code",
      "source": [
        "print (csv_data.shape)"
      ],
      "metadata": {
        "colab": {
          "base_uri": "https://localhost:8080/"
        },
        "id": "3fN4r-svZ3zO",
        "outputId": "9d6d064a-1801-417a-ec11-a702196431f8"
      },
      "execution_count": 11,
      "outputs": [
        {
          "output_type": "stream",
          "name": "stdout",
          "text": [
            "(93908, 40)\n"
          ]
        }
      ]
    },
    {
      "cell_type": "code",
      "source": [
        "display (csv_data)"
      ],
      "metadata": {
        "colab": {
          "base_uri": "https://localhost:8080/",
          "height": 1000
        },
        "id": "LUQ8OhbSblDP",
        "outputId": "60590a72-7d42-4c3a-9b05-c96819e7b596"
      },
      "execution_count": 12,
      "outputs": [
        {
          "output_type": "display_data",
          "data": {
            "text/plain": [
              "                              account.name        account.handle  \\\n",
              "0      पुष्पेंद्र कुलश्रेष्ठ हिन्दू योद्धा  PushpendraKulshresht   \n",
              "1               Pushpendra Kulshresth Fans  PushpendraKulshresth   \n",
              "2                          पुष्पेन्द्रफैंस         puspendrafans   \n",
              "3          पुष्पेंद्र कुलश्रेष्ठ फैंस क्लब        Pushpendrarss2   \n",
              "4         Pushpendra Kulshrestha Fans Club         Pushpendrarss   \n",
              "...                                    ...                   ...   \n",
              "16338                Sudarshan News Behror   SudarshanNewsBehror   \n",
              "16339                Sudarshan News Behror   SudarshanNewsBehror   \n",
              "16340                Sudarshan News Behror   SudarshanNewsBehror   \n",
              "16341                Sudarshan News Behror   SudarshanNewsBehror   \n",
              "16342                Sudarshan News Behror   SudarshanNewsBehror   \n",
              "\n",
              "            platformId         Page Category Page Admin Top Country  \\\n",
              "0      111429147220605  GAMING_VIDEO_CREATOR                     IN   \n",
              "1      112670183467892                 MEDIA                     IN   \n",
              "2      105424034616839    TOPIC_JUST_FOR_FUN                     IN   \n",
              "3      113214903796196             COMMUNITY                     IN   \n",
              "4      313739616231431      ACTIVITY_GENERAL                     IN   \n",
              "...                ...                   ...                    ...   \n",
              "16338  331024313693421            TV_CHANNEL                     IN   \n",
              "16339  331024313693421            TV_CHANNEL                     IN   \n",
              "16340  331024313693421            TV_CHANNEL                     IN   \n",
              "16341  331024313693421            TV_CHANNEL                     IN   \n",
              "16342  331024313693421            TV_CHANNEL                     IN   \n",
              "\n",
              "                                        Page Description         Page Created  \\\n",
              "0                                   Gaming video creator  2020-04-30 18:00:43   \n",
              "1      पूरी दुनिया के आगे सिर्फ सच्चाई को बताना और लो...  2019-09-27 09:14:14   \n",
              "2       पेज में wehindu00  पुष्पेन्द्र जी का प्रसंसक ...  2020-08-21 03:58:49   \n",
              "3      पेज से जुड़ने के लिए आपका धन्यवाद, आशा करते है ...  2020-07-13 06:39:03   \n",
              "4      पेज से जुड़ने के लिए आपका धन्यवाद, आशा करते है ...  2019-06-07 08:59:33   \n",
              "...                                                  ...                  ...   \n",
              "16338  एक चैनल जिस मे है हिम्मत सच कहने की, सिर्फ चैन...  2013-05-20 12:38:01   \n",
              "16339  एक चैनल जिस मे है हिम्मत सच कहने की, सिर्फ चैन...  2013-05-20 12:38:01   \n",
              "16340  एक चैनल जिस मे है हिम्मत सच कहने की, सिर्फ चैन...  2013-05-20 12:38:01   \n",
              "16341  एक चैनल जिस मे है हिम्मत सच कहने की, सिर्फ चैन...  2013-05-20 12:38:01   \n",
              "16342  एक चैनल जिस मे है हिम्मत सच कहने की, सिर्फ चैन...  2013-05-20 12:38:01   \n",
              "\n",
              "       subscriberCount  Followers at Posting                      date  ...  \\\n",
              "0              15643.0               89269.0  2022-04-11 10:32:58 CEST  ...   \n",
              "1              58769.0               86404.0  2022-04-11 10:26:56 CEST  ...   \n",
              "2               3717.0                3841.0  2022-04-11 10:20:36 CEST  ...   \n",
              "3              59492.0               92711.0  2022-04-11 10:02:55 CEST  ...   \n",
              "4             445933.0              853709.0  2022-04-11 09:55:51 CEST  ...   \n",
              "...                ...                   ...                       ...  ...   \n",
              "16338              NaN                   NaN  2017-04-28 03:55:13 CEST  ...   \n",
              "16339              NaN                   NaN  2017-04-27 09:28:26 CEST  ...   \n",
              "16340              NaN                   NaN  2017-04-25 11:27:32 CEST  ...   \n",
              "16341              NaN                   NaN  2017-04-25 07:11:28 CEST  ...   \n",
              "16342              NaN                   NaN  2017-04-25 05:50:18 CEST  ...   \n",
              "\n",
              "                                                 message  \\\n",
              "0                                       🙏🌹🚩#जयश्रीराम🚩🌹🙏   \n",
              "1      ▪️विश्व विजयी भारतीय संस्कृति🚩 _______________...   \n",
              "2      Manoj Muntashir ने बताया इतिहास कहा जब देश में...   \n",
              "3      शत्रुघ्न सिन्हा ने अमिताभ बच्चन से दोस्ती में ...   \n",
              "4      जब तारक मेहता की बबीता जी ने सालों पुराना दर्द...   \n",
              "...                                                  ...   \n",
              "16338  ॐ सर्वे भवन्तु सुखिनः सर्वे सन्तु निरामयाः । स...   \n",
              "16339  फ़िल्म स्टार विनोद खन्ना नहीं रहे # 70 वर्ष की ...   \n",
              "16340  ‪#SadhviPragya जी के बेल के साथ ही @SudarshanN...   \n",
              "16341  राजस्थान में जन्में और सुकमा में शहीद हुए श्री...   \n",
              "16342  ‪#CRPF के हुतात्मा जवानों को भावपुर्ण श्रध्दां...   \n",
              "\n",
              "                                  expandedLinks.original  \\\n",
              "0      https://www.facebook.com/287150574699511/photo...   \n",
              "1      https://www.facebook.com/PushpendraKulshresth/...   \n",
              "2      https://www.facebook.com/puspendrafans/videos/...   \n",
              "3      https://sachkhabar.co.in/shatrughan-sinha-had-...   \n",
              "4      https://appearnews.com/when-taarak-mehtas-babi...   \n",
              "...                                                  ...   \n",
              "16338                                                NaN   \n",
              "16339                                                NaN   \n",
              "16340                                                NaN   \n",
              "16341                                                NaN   \n",
              "16342  https://www.facebook.com/SudarshanNewsBehror/p...   \n",
              "\n",
              "      expandedLinks.expanded  \\\n",
              "0                        NaN   \n",
              "1                        NaN   \n",
              "2                        NaN   \n",
              "3                        NaN   \n",
              "4                        NaN   \n",
              "...                      ...   \n",
              "16338                    NaN   \n",
              "16339                    NaN   \n",
              "16340                    NaN   \n",
              "16341                    NaN   \n",
              "16342                    NaN   \n",
              "\n",
              "                                               imageText  \\\n",
              "0      भाई चारे की बात करने वाले हिंदुओ ।देखो \"आज देश...   \n",
              "1                                                    NaN   \n",
              "2                                                    NaN   \n",
              "3                                                    NaN   \n",
              "4                                                    NaN   \n",
              "...                                                  ...   \n",
              "16338                                                NaN   \n",
              "16339                                                NaN   \n",
              "16340                                                NaN   \n",
              "16341                                                NaN   \n",
              "16342                                                NaN   \n",
              "\n",
              "                                                   title  \\\n",
              "0                                                देशभक्त   \n",
              "1                                                    NaN   \n",
              "2      Manoj Muntashir ने बताया इतिहास कहा जब देश में...   \n",
              "3      शत्रुघ्न सिन्हा ने अमिताभ बच्चन से दोस्ती में ...   \n",
              "4      जब तारक मेहता की बबीता जी ने सालों पुराना दर्द...   \n",
              "...                                                  ...   \n",
              "16338                                                NaN   \n",
              "16339                                                NaN   \n",
              "16340                                                NaN   \n",
              "16341                                                NaN   \n",
              "16342                                    Timeline photos   \n",
              "\n",
              "                                             description  \\\n",
              "0        #हिन्दूएकता ✊️🙏🌹🚩#जयश्रीराम🚩🌹🙏\\n#लाइक & #शेयर 🙏   \n",
              "1                                                    NaN   \n",
              "2                                                    NaN   \n",
              "3      बॉलीवुड के जाने-माने सितारे और शत्रुघ्न सिन्हा...   \n",
              "4      तारक मेहता का उल्टा चश्मा (Taarak Mehta Ka Ool...   \n",
              "...                                                  ...   \n",
              "16338                                                NaN   \n",
              "16339                                                NaN   \n",
              "16340                                                NaN   \n",
              "16341                                                NaN   \n",
              "16342                                                NaN   \n",
              "\n",
              "       brandedContentSponsor.platformId  brandedContentSponsor.name  \\\n",
              "0                                   NaN                         NaN   \n",
              "1                                   NaN                         NaN   \n",
              "2                                   NaN                         NaN   \n",
              "3                                   NaN                         NaN   \n",
              "4                                   NaN                         NaN   \n",
              "...                                 ...                         ...   \n",
              "16338                               NaN                         NaN   \n",
              "16339                               NaN                         NaN   \n",
              "16340                               NaN                         NaN   \n",
              "16341                               NaN                         NaN   \n",
              "16342                               NaN                         NaN   \n",
              "\n",
              "       brandedContentSponsor.category  score  \n",
              "0                                 NaN  -8.67  \n",
              "1                                 NaN  -5.56  \n",
              "2                                 NaN  -1.62  \n",
              "3                                 NaN  -0.83  \n",
              "4                                 NaN   -2.8  \n",
              "...                               ...    ...  \n",
              "16338                             NaN   -4.2  \n",
              "16339                             NaN  -10.5  \n",
              "16340                             NaN     -7  \n",
              "16341                             NaN  -10.5  \n",
              "16342                             NaN  -6.17  \n",
              "\n",
              "[93908 rows x 40 columns]"
            ],
            "text/html": [
              "\n",
              "  <div id=\"df-d605a506-65b1-4f93-aafa-346538a39247\">\n",
              "    <div class=\"colab-df-container\">\n",
              "      <div>\n",
              "<style scoped>\n",
              "    .dataframe tbody tr th:only-of-type {\n",
              "        vertical-align: middle;\n",
              "    }\n",
              "\n",
              "    .dataframe tbody tr th {\n",
              "        vertical-align: top;\n",
              "    }\n",
              "\n",
              "    .dataframe thead th {\n",
              "        text-align: right;\n",
              "    }\n",
              "</style>\n",
              "<table border=\"1\" class=\"dataframe\">\n",
              "  <thead>\n",
              "    <tr style=\"text-align: right;\">\n",
              "      <th></th>\n",
              "      <th>account.name</th>\n",
              "      <th>account.handle</th>\n",
              "      <th>platformId</th>\n",
              "      <th>Page Category</th>\n",
              "      <th>Page Admin Top Country</th>\n",
              "      <th>Page Description</th>\n",
              "      <th>Page Created</th>\n",
              "      <th>subscriberCount</th>\n",
              "      <th>Followers at Posting</th>\n",
              "      <th>date</th>\n",
              "      <th>...</th>\n",
              "      <th>message</th>\n",
              "      <th>expandedLinks.original</th>\n",
              "      <th>expandedLinks.expanded</th>\n",
              "      <th>imageText</th>\n",
              "      <th>title</th>\n",
              "      <th>description</th>\n",
              "      <th>brandedContentSponsor.platformId</th>\n",
              "      <th>brandedContentSponsor.name</th>\n",
              "      <th>brandedContentSponsor.category</th>\n",
              "      <th>score</th>\n",
              "    </tr>\n",
              "  </thead>\n",
              "  <tbody>\n",
              "    <tr>\n",
              "      <th>0</th>\n",
              "      <td>पुष्पेंद्र कुलश्रेष्ठ हिन्दू योद्धा</td>\n",
              "      <td>PushpendraKulshresht</td>\n",
              "      <td>111429147220605</td>\n",
              "      <td>GAMING_VIDEO_CREATOR</td>\n",
              "      <td>IN</td>\n",
              "      <td>Gaming video creator</td>\n",
              "      <td>2020-04-30 18:00:43</td>\n",
              "      <td>15643.0</td>\n",
              "      <td>89269.0</td>\n",
              "      <td>2022-04-11 10:32:58 CEST</td>\n",
              "      <td>...</td>\n",
              "      <td>🙏🌹🚩#जयश्रीराम🚩🌹🙏</td>\n",
              "      <td>https://www.facebook.com/287150574699511/photo...</td>\n",
              "      <td>NaN</td>\n",
              "      <td>भाई चारे की बात करने वाले हिंदुओ ।देखो \"आज देश...</td>\n",
              "      <td>देशभक्त</td>\n",
              "      <td>#हिन्दूएकता ✊️🙏🌹🚩#जयश्रीराम🚩🌹🙏\\n#लाइक &amp; #शेयर 🙏</td>\n",
              "      <td>NaN</td>\n",
              "      <td>NaN</td>\n",
              "      <td>NaN</td>\n",
              "      <td>-8.67</td>\n",
              "    </tr>\n",
              "    <tr>\n",
              "      <th>1</th>\n",
              "      <td>Pushpendra Kulshresth Fans</td>\n",
              "      <td>PushpendraKulshresth</td>\n",
              "      <td>112670183467892</td>\n",
              "      <td>MEDIA</td>\n",
              "      <td>IN</td>\n",
              "      <td>पूरी दुनिया के आगे सिर्फ सच्चाई को बताना और लो...</td>\n",
              "      <td>2019-09-27 09:14:14</td>\n",
              "      <td>58769.0</td>\n",
              "      <td>86404.0</td>\n",
              "      <td>2022-04-11 10:26:56 CEST</td>\n",
              "      <td>...</td>\n",
              "      <td>▪️विश्व विजयी भारतीय संस्कृति🚩 _______________...</td>\n",
              "      <td>https://www.facebook.com/PushpendraKulshresth/...</td>\n",
              "      <td>NaN</td>\n",
              "      <td>NaN</td>\n",
              "      <td>NaN</td>\n",
              "      <td>NaN</td>\n",
              "      <td>NaN</td>\n",
              "      <td>NaN</td>\n",
              "      <td>NaN</td>\n",
              "      <td>-5.56</td>\n",
              "    </tr>\n",
              "    <tr>\n",
              "      <th>2</th>\n",
              "      <td>पुष्पेन्द्रफैंस</td>\n",
              "      <td>puspendrafans</td>\n",
              "      <td>105424034616839</td>\n",
              "      <td>TOPIC_JUST_FOR_FUN</td>\n",
              "      <td>IN</td>\n",
              "      <td>पेज में wehindu00  पुष्पेन्द्र जी का प्रसंसक ...</td>\n",
              "      <td>2020-08-21 03:58:49</td>\n",
              "      <td>3717.0</td>\n",
              "      <td>3841.0</td>\n",
              "      <td>2022-04-11 10:20:36 CEST</td>\n",
              "      <td>...</td>\n",
              "      <td>Manoj Muntashir ने बताया इतिहास कहा जब देश में...</td>\n",
              "      <td>https://www.facebook.com/puspendrafans/videos/...</td>\n",
              "      <td>NaN</td>\n",
              "      <td>NaN</td>\n",
              "      <td>Manoj Muntashir ने बताया इतिहास कहा जब देश में...</td>\n",
              "      <td>NaN</td>\n",
              "      <td>NaN</td>\n",
              "      <td>NaN</td>\n",
              "      <td>NaN</td>\n",
              "      <td>-1.62</td>\n",
              "    </tr>\n",
              "    <tr>\n",
              "      <th>3</th>\n",
              "      <td>पुष्पेंद्र कुलश्रेष्ठ फैंस क्लब</td>\n",
              "      <td>Pushpendrarss2</td>\n",
              "      <td>113214903796196</td>\n",
              "      <td>COMMUNITY</td>\n",
              "      <td>IN</td>\n",
              "      <td>पेज से जुड़ने के लिए आपका धन्यवाद, आशा करते है ...</td>\n",
              "      <td>2020-07-13 06:39:03</td>\n",
              "      <td>59492.0</td>\n",
              "      <td>92711.0</td>\n",
              "      <td>2022-04-11 10:02:55 CEST</td>\n",
              "      <td>...</td>\n",
              "      <td>शत्रुघ्न सिन्हा ने अमिताभ बच्चन से दोस्ती में ...</td>\n",
              "      <td>https://sachkhabar.co.in/shatrughan-sinha-had-...</td>\n",
              "      <td>NaN</td>\n",
              "      <td>NaN</td>\n",
              "      <td>शत्रुघ्न सिन्हा ने अमिताभ बच्चन से दोस्ती में ...</td>\n",
              "      <td>बॉलीवुड के जाने-माने सितारे और शत्रुघ्न सिन्हा...</td>\n",
              "      <td>NaN</td>\n",
              "      <td>NaN</td>\n",
              "      <td>NaN</td>\n",
              "      <td>-0.83</td>\n",
              "    </tr>\n",
              "    <tr>\n",
              "      <th>4</th>\n",
              "      <td>Pushpendra Kulshrestha Fans Club</td>\n",
              "      <td>Pushpendrarss</td>\n",
              "      <td>313739616231431</td>\n",
              "      <td>ACTIVITY_GENERAL</td>\n",
              "      <td>IN</td>\n",
              "      <td>पेज से जुड़ने के लिए आपका धन्यवाद, आशा करते है ...</td>\n",
              "      <td>2019-06-07 08:59:33</td>\n",
              "      <td>445933.0</td>\n",
              "      <td>853709.0</td>\n",
              "      <td>2022-04-11 09:55:51 CEST</td>\n",
              "      <td>...</td>\n",
              "      <td>जब तारक मेहता की बबीता जी ने सालों पुराना दर्द...</td>\n",
              "      <td>https://appearnews.com/when-taarak-mehtas-babi...</td>\n",
              "      <td>NaN</td>\n",
              "      <td>NaN</td>\n",
              "      <td>जब तारक मेहता की बबीता जी ने सालों पुराना दर्द...</td>\n",
              "      <td>तारक मेहता का उल्टा चश्मा (Taarak Mehta Ka Ool...</td>\n",
              "      <td>NaN</td>\n",
              "      <td>NaN</td>\n",
              "      <td>NaN</td>\n",
              "      <td>-2.8</td>\n",
              "    </tr>\n",
              "    <tr>\n",
              "      <th>...</th>\n",
              "      <td>...</td>\n",
              "      <td>...</td>\n",
              "      <td>...</td>\n",
              "      <td>...</td>\n",
              "      <td>...</td>\n",
              "      <td>...</td>\n",
              "      <td>...</td>\n",
              "      <td>...</td>\n",
              "      <td>...</td>\n",
              "      <td>...</td>\n",
              "      <td>...</td>\n",
              "      <td>...</td>\n",
              "      <td>...</td>\n",
              "      <td>...</td>\n",
              "      <td>...</td>\n",
              "      <td>...</td>\n",
              "      <td>...</td>\n",
              "      <td>...</td>\n",
              "      <td>...</td>\n",
              "      <td>...</td>\n",
              "      <td>...</td>\n",
              "    </tr>\n",
              "    <tr>\n",
              "      <th>16338</th>\n",
              "      <td>Sudarshan News Behror</td>\n",
              "      <td>SudarshanNewsBehror</td>\n",
              "      <td>331024313693421</td>\n",
              "      <td>TV_CHANNEL</td>\n",
              "      <td>IN</td>\n",
              "      <td>एक चैनल जिस मे है हिम्मत सच कहने की, सिर्फ चैन...</td>\n",
              "      <td>2013-05-20 12:38:01</td>\n",
              "      <td>NaN</td>\n",
              "      <td>NaN</td>\n",
              "      <td>2017-04-28 03:55:13 CEST</td>\n",
              "      <td>...</td>\n",
              "      <td>ॐ सर्वे भवन्तु सुखिनः सर्वे सन्तु निरामयाः । स...</td>\n",
              "      <td>NaN</td>\n",
              "      <td>NaN</td>\n",
              "      <td>NaN</td>\n",
              "      <td>NaN</td>\n",
              "      <td>NaN</td>\n",
              "      <td>NaN</td>\n",
              "      <td>NaN</td>\n",
              "      <td>NaN</td>\n",
              "      <td>-4.2</td>\n",
              "    </tr>\n",
              "    <tr>\n",
              "      <th>16339</th>\n",
              "      <td>Sudarshan News Behror</td>\n",
              "      <td>SudarshanNewsBehror</td>\n",
              "      <td>331024313693421</td>\n",
              "      <td>TV_CHANNEL</td>\n",
              "      <td>IN</td>\n",
              "      <td>एक चैनल जिस मे है हिम्मत सच कहने की, सिर्फ चैन...</td>\n",
              "      <td>2013-05-20 12:38:01</td>\n",
              "      <td>NaN</td>\n",
              "      <td>NaN</td>\n",
              "      <td>2017-04-27 09:28:26 CEST</td>\n",
              "      <td>...</td>\n",
              "      <td>फ़िल्म स्टार विनोद खन्ना नहीं रहे # 70 वर्ष की ...</td>\n",
              "      <td>NaN</td>\n",
              "      <td>NaN</td>\n",
              "      <td>NaN</td>\n",
              "      <td>NaN</td>\n",
              "      <td>NaN</td>\n",
              "      <td>NaN</td>\n",
              "      <td>NaN</td>\n",
              "      <td>NaN</td>\n",
              "      <td>-10.5</td>\n",
              "    </tr>\n",
              "    <tr>\n",
              "      <th>16340</th>\n",
              "      <td>Sudarshan News Behror</td>\n",
              "      <td>SudarshanNewsBehror</td>\n",
              "      <td>331024313693421</td>\n",
              "      <td>TV_CHANNEL</td>\n",
              "      <td>IN</td>\n",
              "      <td>एक चैनल जिस मे है हिम्मत सच कहने की, सिर्फ चैन...</td>\n",
              "      <td>2013-05-20 12:38:01</td>\n",
              "      <td>NaN</td>\n",
              "      <td>NaN</td>\n",
              "      <td>2017-04-25 11:27:32 CEST</td>\n",
              "      <td>...</td>\n",
              "      <td>‪#SadhviPragya जी के बेल के साथ ही @SudarshanN...</td>\n",
              "      <td>NaN</td>\n",
              "      <td>NaN</td>\n",
              "      <td>NaN</td>\n",
              "      <td>NaN</td>\n",
              "      <td>NaN</td>\n",
              "      <td>NaN</td>\n",
              "      <td>NaN</td>\n",
              "      <td>NaN</td>\n",
              "      <td>-7</td>\n",
              "    </tr>\n",
              "    <tr>\n",
              "      <th>16341</th>\n",
              "      <td>Sudarshan News Behror</td>\n",
              "      <td>SudarshanNewsBehror</td>\n",
              "      <td>331024313693421</td>\n",
              "      <td>TV_CHANNEL</td>\n",
              "      <td>IN</td>\n",
              "      <td>एक चैनल जिस मे है हिम्मत सच कहने की, सिर्फ चैन...</td>\n",
              "      <td>2013-05-20 12:38:01</td>\n",
              "      <td>NaN</td>\n",
              "      <td>NaN</td>\n",
              "      <td>2017-04-25 07:11:28 CEST</td>\n",
              "      <td>...</td>\n",
              "      <td>राजस्थान में जन्में और सुकमा में शहीद हुए श्री...</td>\n",
              "      <td>NaN</td>\n",
              "      <td>NaN</td>\n",
              "      <td>NaN</td>\n",
              "      <td>NaN</td>\n",
              "      <td>NaN</td>\n",
              "      <td>NaN</td>\n",
              "      <td>NaN</td>\n",
              "      <td>NaN</td>\n",
              "      <td>-10.5</td>\n",
              "    </tr>\n",
              "    <tr>\n",
              "      <th>16342</th>\n",
              "      <td>Sudarshan News Behror</td>\n",
              "      <td>SudarshanNewsBehror</td>\n",
              "      <td>331024313693421</td>\n",
              "      <td>TV_CHANNEL</td>\n",
              "      <td>IN</td>\n",
              "      <td>एक चैनल जिस मे है हिम्मत सच कहने की, सिर्फ चैन...</td>\n",
              "      <td>2013-05-20 12:38:01</td>\n",
              "      <td>NaN</td>\n",
              "      <td>NaN</td>\n",
              "      <td>2017-04-25 05:50:18 CEST</td>\n",
              "      <td>...</td>\n",
              "      <td>‪#CRPF के हुतात्मा जवानों को भावपुर्ण श्रध्दां...</td>\n",
              "      <td>https://www.facebook.com/SudarshanNewsBehror/p...</td>\n",
              "      <td>NaN</td>\n",
              "      <td>NaN</td>\n",
              "      <td>Timeline photos</td>\n",
              "      <td>NaN</td>\n",
              "      <td>NaN</td>\n",
              "      <td>NaN</td>\n",
              "      <td>NaN</td>\n",
              "      <td>-6.17</td>\n",
              "    </tr>\n",
              "  </tbody>\n",
              "</table>\n",
              "<p>93908 rows × 40 columns</p>\n",
              "</div>\n",
              "      <button class=\"colab-df-convert\" onclick=\"convertToInteractive('df-d605a506-65b1-4f93-aafa-346538a39247')\"\n",
              "              title=\"Convert this dataframe to an interactive table.\"\n",
              "              style=\"display:none;\">\n",
              "        \n",
              "  <svg xmlns=\"http://www.w3.org/2000/svg\" height=\"24px\"viewBox=\"0 0 24 24\"\n",
              "       width=\"24px\">\n",
              "    <path d=\"M0 0h24v24H0V0z\" fill=\"none\"/>\n",
              "    <path d=\"M18.56 5.44l.94 2.06.94-2.06 2.06-.94-2.06-.94-.94-2.06-.94 2.06-2.06.94zm-11 1L8.5 8.5l.94-2.06 2.06-.94-2.06-.94L8.5 2.5l-.94 2.06-2.06.94zm10 10l.94 2.06.94-2.06 2.06-.94-2.06-.94-.94-2.06-.94 2.06-2.06.94z\"/><path d=\"M17.41 7.96l-1.37-1.37c-.4-.4-.92-.59-1.43-.59-.52 0-1.04.2-1.43.59L10.3 9.45l-7.72 7.72c-.78.78-.78 2.05 0 2.83L4 21.41c.39.39.9.59 1.41.59.51 0 1.02-.2 1.41-.59l7.78-7.78 2.81-2.81c.8-.78.8-2.07 0-2.86zM5.41 20L4 18.59l7.72-7.72 1.47 1.35L5.41 20z\"/>\n",
              "  </svg>\n",
              "      </button>\n",
              "      \n",
              "  <style>\n",
              "    .colab-df-container {\n",
              "      display:flex;\n",
              "      flex-wrap:wrap;\n",
              "      gap: 12px;\n",
              "    }\n",
              "\n",
              "    .colab-df-convert {\n",
              "      background-color: #E8F0FE;\n",
              "      border: none;\n",
              "      border-radius: 50%;\n",
              "      cursor: pointer;\n",
              "      display: none;\n",
              "      fill: #1967D2;\n",
              "      height: 32px;\n",
              "      padding: 0 0 0 0;\n",
              "      width: 32px;\n",
              "    }\n",
              "\n",
              "    .colab-df-convert:hover {\n",
              "      background-color: #E2EBFA;\n",
              "      box-shadow: 0px 1px 2px rgba(60, 64, 67, 0.3), 0px 1px 3px 1px rgba(60, 64, 67, 0.15);\n",
              "      fill: #174EA6;\n",
              "    }\n",
              "\n",
              "    [theme=dark] .colab-df-convert {\n",
              "      background-color: #3B4455;\n",
              "      fill: #D2E3FC;\n",
              "    }\n",
              "\n",
              "    [theme=dark] .colab-df-convert:hover {\n",
              "      background-color: #434B5C;\n",
              "      box-shadow: 0px 1px 3px 1px rgba(0, 0, 0, 0.15);\n",
              "      filter: drop-shadow(0px 1px 2px rgba(0, 0, 0, 0.3));\n",
              "      fill: #FFFFFF;\n",
              "    }\n",
              "  </style>\n",
              "\n",
              "      <script>\n",
              "        const buttonEl =\n",
              "          document.querySelector('#df-d605a506-65b1-4f93-aafa-346538a39247 button.colab-df-convert');\n",
              "        buttonEl.style.display =\n",
              "          google.colab.kernel.accessAllowed ? 'block' : 'none';\n",
              "\n",
              "        async function convertToInteractive(key) {\n",
              "          const element = document.querySelector('#df-d605a506-65b1-4f93-aafa-346538a39247');\n",
              "          const dataTable =\n",
              "            await google.colab.kernel.invokeFunction('convertToInteractive',\n",
              "                                                     [key], {});\n",
              "          if (!dataTable) return;\n",
              "\n",
              "          const docLinkHtml = 'Like what you see? Visit the ' +\n",
              "            '<a target=\"_blank\" href=https://colab.research.google.com/notebooks/data_table.ipynb>data table notebook</a>'\n",
              "            + ' to learn more about interactive tables.';\n",
              "          element.innerHTML = '';\n",
              "          dataTable['output_type'] = 'display_data';\n",
              "          await google.colab.output.renderOutput(dataTable, element);\n",
              "          const docLink = document.createElement('div');\n",
              "          docLink.innerHTML = docLinkHtml;\n",
              "          element.appendChild(docLink);\n",
              "        }\n",
              "      </script>\n",
              "    </div>\n",
              "  </div>\n",
              "  "
            ]
          },
          "metadata": {}
        }
      ]
    },
    {
      "cell_type": "markdown",
      "source": [
        "## Section C. Computation of the nodes and edges for Gephi visualisation\n",
        "---"
      ],
      "metadata": {
        "id": "Dd4VFIhBxGTL"
      }
    },
    {
      "cell_type": "markdown",
      "source": [
        "In this section we compute the nodes and edges of the whole graph, and by using the `NetworkX` python package, create the graph. \n",
        "\n",
        "It is possible to choose any `source` and `target` field as one wishes. Some possible examples are:\n",
        "\n",
        "\n",
        "\n",
        "> `source`: account.name, `target`: explandedLinks => shows the mapping of accounts and shared links.\n",
        "\n",
        "> `source`: account.name, `target`: category => shows what account falls in which category.\n",
        "\n",
        "> `source`: account.name, `target`: type => shows which account shares what types of posts the most, e.g., Videos, Photos etc.\n",
        "\n",
        "The `nodes.csv` and `edges.csv` files created below can be imported to visualisation softwares like Gephi to make interactive visualisations. "
      ],
      "metadata": {
        "id": "HHUebltlQUrG"
      }
    },
    {
      "cell_type": "markdown",
      "source": [
        "### Compute the graph edges and nodes"
      ],
      "metadata": {
        "id": "HIBsUtdOjVbL"
      }
    },
    {
      "cell_type": "code",
      "source": [
        "nodelist = pd.DataFrame({'accountname':csv_data ['account.name'], 'link':csv_data ['expandedLinks.original']})"
      ],
      "metadata": {
        "id": "2HJAGS0eMSUU"
      },
      "execution_count": 24,
      "outputs": []
    },
    {
      "cell_type": "markdown",
      "source": [
        "> Nodes must have the map: `Id`, `Label`"
      ],
      "metadata": {
        "id": "KrT2etRCybVN"
      }
    },
    {
      "cell_type": "code",
      "source": [
        "nodes = pd.DataFrame({'Id':nodelist.iloc[:,0], 'Label':nodelist.iloc[:,0]})"
      ],
      "metadata": {
        "id": "13Up25B5pKUP"
      },
      "execution_count": 32,
      "outputs": []
    },
    {
      "cell_type": "markdown",
      "source": [
        "> Edges must have the map: `Source`, `Target`"
      ],
      "metadata": {
        "id": "_1FbLSFSysHM"
      }
    },
    {
      "cell_type": "code",
      "source": [
        "edges = pd.DataFrame({'Source':nodelist.iloc[:,0], 'Target':nodelist.iloc[:,1]})"
      ],
      "metadata": {
        "id": "D_v5D9YdaY6t"
      },
      "execution_count": 31,
      "outputs": []
    },
    {
      "cell_type": "code",
      "source": [
        "print (edges.shape)"
      ],
      "metadata": {
        "colab": {
          "base_uri": "https://localhost:8080/"
        },
        "id": "wHap--yHsQql",
        "outputId": "0ab376ee-feb0-4766-cf93-febd36d5cb95"
      },
      "execution_count": null,
      "outputs": [
        {
          "output_type": "stream",
          "name": "stdout",
          "text": [
            "(93908, 2)\n"
          ]
        }
      ]
    },
    {
      "cell_type": "code",
      "source": [
        "print (nodes)"
      ],
      "metadata": {
        "colab": {
          "base_uri": "https://localhost:8080/"
        },
        "id": "Hz_CixmnwYiz",
        "outputId": "cd0f212e-324f-4565-eea3-e67461da5a86"
      },
      "execution_count": 35,
      "outputs": [
        {
          "output_type": "stream",
          "name": "stdout",
          "text": [
            "                                        Id  \\\n",
            "0      पुष्पेंद्र कुलश्रेष्ठ हिन्दू योद्धा   \n",
            "1               Pushpendra Kulshresth Fans   \n",
            "2                          पुष्पेन्द्रफैंस   \n",
            "3          पुष्पेंद्र कुलश्रेष्ठ फैंस क्लब   \n",
            "4         Pushpendra Kulshrestha Fans Club   \n",
            "...                                    ...   \n",
            "16338                Sudarshan News Behror   \n",
            "16339                Sudarshan News Behror   \n",
            "16340                Sudarshan News Behror   \n",
            "16341                Sudarshan News Behror   \n",
            "16342                Sudarshan News Behror   \n",
            "\n",
            "                                     Label  \n",
            "0      पुष्पेंद्र कुलश्रेष्ठ हिन्दू योद्धा  \n",
            "1               Pushpendra Kulshresth Fans  \n",
            "2                          पुष्पेन्द्रफैंस  \n",
            "3          पुष्पेंद्र कुलश्रेष्ठ फैंस क्लब  \n",
            "4         Pushpendra Kulshrestha Fans Club  \n",
            "...                                    ...  \n",
            "16338                Sudarshan News Behror  \n",
            "16339                Sudarshan News Behror  \n",
            "16340                Sudarshan News Behror  \n",
            "16341                Sudarshan News Behror  \n",
            "16342                Sudarshan News Behror  \n",
            "\n",
            "[93908 rows x 2 columns]\n"
          ]
        }
      ]
    },
    {
      "cell_type": "code",
      "source": [
        "print (edges)"
      ],
      "metadata": {
        "colab": {
          "base_uri": "https://localhost:8080/"
        },
        "id": "uf4CSsbtzaUd",
        "outputId": "9602d9be-6330-47b7-ffae-ed907e3d61a1"
      },
      "execution_count": 40,
      "outputs": [
        {
          "output_type": "stream",
          "name": "stdout",
          "text": [
            "                                    Source  \\\n",
            "0      पुष्पेंद्र कुलश्रेष्ठ हिन्दू योद्धा   \n",
            "1               Pushpendra Kulshresth Fans   \n",
            "2                          पुष्पेन्द्रफैंस   \n",
            "3          पुष्पेंद्र कुलश्रेष्ठ फैंस क्लब   \n",
            "4         Pushpendra Kulshrestha Fans Club   \n",
            "...                                    ...   \n",
            "16338                Sudarshan News Behror   \n",
            "16339                Sudarshan News Behror   \n",
            "16340                Sudarshan News Behror   \n",
            "16341                Sudarshan News Behror   \n",
            "16342                Sudarshan News Behror   \n",
            "\n",
            "                                                  Target  \n",
            "0      https://www.facebook.com/287150574699511/photo...  \n",
            "1      https://www.facebook.com/PushpendraKulshresth/...  \n",
            "2      https://www.facebook.com/puspendrafans/videos/...  \n",
            "3      https://sachkhabar.co.in/shatrughan-sinha-had-...  \n",
            "4      https://appearnews.com/when-taarak-mehtas-babi...  \n",
            "...                                                  ...  \n",
            "16338                                                NaN  \n",
            "16339                                                NaN  \n",
            "16340                                                NaN  \n",
            "16341                                                NaN  \n",
            "16342  https://www.facebook.com/SudarshanNewsBehror/p...  \n",
            "\n",
            "[93908 rows x 2 columns]\n"
          ]
        }
      ]
    },
    {
      "cell_type": "markdown",
      "source": [
        "### Save the edges and nodes to csv"
      ],
      "metadata": {
        "id": "fWEVak98v0Mr"
      }
    },
    {
      "cell_type": "code",
      "source": [
        "edges.to_csv('edges.csv',index=False) # save the edges into csv "
      ],
      "metadata": {
        "id": "TqeiaJK9r6DD"
      },
      "execution_count": 33,
      "outputs": []
    },
    {
      "cell_type": "code",
      "source": [
        "nodes.to_csv('nodes.csv',index=False) # save the nodes into csv "
      ],
      "metadata": {
        "id": "CqE06fwlqmV-"
      },
      "execution_count": 34,
      "outputs": []
    },
    {
      "cell_type": "markdown",
      "source": [
        "### Drop the unique rows - if only interested in the correlations between the three groups/lists **(OPTIONAL)**\n"
      ],
      "metadata": {
        "id": "F6sPHsMfqJQX"
      }
    },
    {
      "cell_type": "code",
      "source": [
        "new_edges = edges[edges.duplicated(subset=['Source','Target'], keep=False)]"
      ],
      "metadata": {
        "id": "qnQ98W9WpkPp"
      },
      "execution_count": 37,
      "outputs": []
    },
    {
      "cell_type": "code",
      "source": [
        "print (new_edges.shape)"
      ],
      "metadata": {
        "colab": {
          "base_uri": "https://localhost:8080/"
        },
        "id": "ejKu_JvIsXPF",
        "outputId": "661e090f-dd5d-4139-d8d7-595d75d9b0ab"
      },
      "execution_count": 38,
      "outputs": [
        {
          "output_type": "stream",
          "name": "stdout",
          "text": [
            "(22996, 2)\n"
          ]
        }
      ]
    },
    {
      "cell_type": "code",
      "source": [
        "print (new_edges)"
      ],
      "metadata": {
        "id": "CAB7Ghvza6or",
        "colab": {
          "base_uri": "https://localhost:8080/"
        },
        "outputId": "5973e1de-9218-407d-d7a3-1de3af97214e"
      },
      "execution_count": 39,
      "outputs": [
        {
          "output_type": "stream",
          "name": "stdout",
          "text": [
            "                                    Source  \\\n",
            "14              Pushpendra Kulshresth Fans   \n",
            "15     हिन्दू वक्ता पुष्पेन्द्र कुलश्रेष्ठ   \n",
            "32             Pushpendra Kulshrestha fans   \n",
            "33             Pushpendra Kulshrestha fans   \n",
            "34             Pushpendra Kulshrestha fans   \n",
            "...                                    ...   \n",
            "16337                Sudarshan News Behror   \n",
            "16338                Sudarshan News Behror   \n",
            "16339                Sudarshan News Behror   \n",
            "16340                Sudarshan News Behror   \n",
            "16341                Sudarshan News Behror   \n",
            "\n",
            "                                                  Target  \n",
            "14                                                   NaN  \n",
            "15                                                   NaN  \n",
            "32     https://www.facebook.com/prakharshri78/videos/...  \n",
            "33     https://www.facebook.com/IndixOnline/videos/48...  \n",
            "34     https://www.facebook.com/prakharshri78/videos/...  \n",
            "...                                                  ...  \n",
            "16337                                                NaN  \n",
            "16338                                                NaN  \n",
            "16339                                                NaN  \n",
            "16340                                                NaN  \n",
            "16341                                                NaN  \n",
            "\n",
            "[22996 rows x 2 columns]\n"
          ]
        }
      ]
    }
  ]
}